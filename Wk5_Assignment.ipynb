{
 "cells": [
  {
   "cell_type": "markdown",
   "metadata": {},
   "source": [
    "# Importing modules, reading csv file and displaying first 5 records in the csv file."
   ]
  },
  {
   "cell_type": "code",
   "execution_count": 1,
   "metadata": {},
   "outputs": [],
   "source": [
    "import numpy as np\n",
    "import pandas as pd\n",
    "from datetime import datetime"
   ]
  },
  {
   "cell_type": "code",
   "execution_count": 2,
   "metadata": {},
   "outputs": [
    {
     "data": {
      "text/html": [
       "<div>\n",
       "<style scoped>\n",
       "    .dataframe tbody tr th:only-of-type {\n",
       "        vertical-align: middle;\n",
       "    }\n",
       "\n",
       "    .dataframe tbody tr th {\n",
       "        vertical-align: top;\n",
       "    }\n",
       "\n",
       "    .dataframe thead th {\n",
       "        text-align: right;\n",
       "    }\n",
       "</style>\n",
       "<table border=\"1\" class=\"dataframe\">\n",
       "  <thead>\n",
       "    <tr style=\"text-align: right;\">\n",
       "      <th></th>\n",
       "      <th>name</th>\n",
       "      <th>lat</th>\n",
       "      <th>lon</th>\n",
       "    </tr>\n",
       "  </thead>\n",
       "  <tbody>\n",
       "    <tr>\n",
       "      <th>0</th>\n",
       "      <td>Dillant Hopkins Airport</td>\n",
       "      <td>72.270833</td>\n",
       "      <td>42.898333</td>\n",
       "    </tr>\n",
       "    <tr>\n",
       "      <th>1</th>\n",
       "      <td>Eastport Municipal Airport</td>\n",
       "      <td>44.910111</td>\n",
       "      <td>-67.012694</td>\n",
       "    </tr>\n",
       "    <tr>\n",
       "      <th>2</th>\n",
       "      <td>Houlton Intl</td>\n",
       "      <td>46.123083</td>\n",
       "      <td>-67.792056</td>\n",
       "    </tr>\n",
       "    <tr>\n",
       "      <th>3</th>\n",
       "      <td>Caribou Muni</td>\n",
       "      <td>46.871500</td>\n",
       "      <td>-68.017917</td>\n",
       "    </tr>\n",
       "    <tr>\n",
       "      <th>4</th>\n",
       "      <td>Northern Maine Rgnl At Presque Isle</td>\n",
       "      <td>46.688958</td>\n",
       "      <td>-68.044797</td>\n",
       "    </tr>\n",
       "  </tbody>\n",
       "</table>\n",
       "</div>"
      ],
      "text/plain": [
       "                                  name        lat        lon\n",
       "0              Dillant Hopkins Airport  72.270833  42.898333\n",
       "1           Eastport Municipal Airport  44.910111 -67.012694\n",
       "2                         Houlton Intl  46.123083 -67.792056\n",
       "3                         Caribou Muni  46.871500 -68.017917\n",
       "4  Northern Maine Rgnl At Presque Isle  46.688958 -68.044797"
      ]
     },
     "execution_count": 2,
     "metadata": {},
     "output_type": "execute_result"
    }
   ],
   "source": [
    "airports = pd.read_csv('/Users/dukephung/Desktop/Spring2019/IS 362/' \\\n",
    "                       'nycflights13-master/data-raw/airports.csv',\n",
    "                     usecols=[1, 2, 3])\n",
    "airports.head()"
   ]
  },
  {
   "cell_type": "code",
   "execution_count": 3,
   "metadata": {},
   "outputs": [],
   "source": [
    "airports.set_index('name', inplace=True)"
   ]
  },
  {
   "cell_type": "code",
   "execution_count": 4,
   "metadata": {},
   "outputs": [
    {
     "data": {
      "text/html": [
       "<div>\n",
       "<style scoped>\n",
       "    .dataframe tbody tr th:only-of-type {\n",
       "        vertical-align: middle;\n",
       "    }\n",
       "\n",
       "    .dataframe tbody tr th {\n",
       "        vertical-align: top;\n",
       "    }\n",
       "\n",
       "    .dataframe thead th {\n",
       "        text-align: right;\n",
       "    }\n",
       "</style>\n",
       "<table border=\"1\" class=\"dataframe\">\n",
       "  <thead>\n",
       "    <tr style=\"text-align: right;\">\n",
       "      <th></th>\n",
       "      <th>lat</th>\n",
       "      <th>lon</th>\n",
       "    </tr>\n",
       "    <tr>\n",
       "      <th>name</th>\n",
       "      <th></th>\n",
       "      <th></th>\n",
       "    </tr>\n",
       "  </thead>\n",
       "  <tbody>\n",
       "    <tr>\n",
       "      <th>Dillant Hopkins Airport</th>\n",
       "      <td>72.270833</td>\n",
       "      <td>42.898333</td>\n",
       "    </tr>\n",
       "    <tr>\n",
       "      <th>Eastport Municipal Airport</th>\n",
       "      <td>44.910111</td>\n",
       "      <td>-67.012694</td>\n",
       "    </tr>\n",
       "    <tr>\n",
       "      <th>Houlton Intl</th>\n",
       "      <td>46.123083</td>\n",
       "      <td>-67.792056</td>\n",
       "    </tr>\n",
       "    <tr>\n",
       "      <th>Caribou Muni</th>\n",
       "      <td>46.871500</td>\n",
       "      <td>-68.017917</td>\n",
       "    </tr>\n",
       "    <tr>\n",
       "      <th>Northern Maine Rgnl At Presque Isle</th>\n",
       "      <td>46.688958</td>\n",
       "      <td>-68.044797</td>\n",
       "    </tr>\n",
       "  </tbody>\n",
       "</table>\n",
       "</div>"
      ],
      "text/plain": [
       "                                           lat        lon\n",
       "name                                                     \n",
       "Dillant Hopkins Airport              72.270833  42.898333\n",
       "Eastport Municipal Airport           44.910111 -67.012694\n",
       "Houlton Intl                         46.123083 -67.792056\n",
       "Caribou Muni                         46.871500 -68.017917\n",
       "Northern Maine Rgnl At Presque Isle  46.688958 -68.044797"
      ]
     },
     "execution_count": 4,
     "metadata": {},
     "output_type": "execute_result"
    }
   ],
   "source": [
    "# airports.loc[:, 'lat'].max()\n",
    "airports.head()"
   ]
  },
  {
   "cell_type": "markdown",
   "metadata": {},
   "source": [
    "# What is the northernmost airport in the United States?"
   ]
  },
  {
   "cell_type": "code",
   "execution_count": 5,
   "metadata": {},
   "outputs": [
    {
     "data": {
      "text/plain": [
       "name\n",
       "Dillant Hopkins Airport                72.270833\n",
       "Eastport Municipal Airport             44.910111\n",
       "Houlton Intl                           46.123083\n",
       "Caribou Muni                           46.871500\n",
       "Northern Maine Rgnl At Presque Isle    46.688958\n",
       "Name: lat, dtype: float64"
      ]
     },
     "execution_count": 5,
     "metadata": {},
     "output_type": "execute_result"
    }
   ],
   "source": [
    "airports['lat'].head()"
   ]
  },
  {
   "cell_type": "markdown",
   "metadata": {},
   "source": [
    "### Isolate the max latitude."
   ]
  },
  {
   "cell_type": "code",
   "execution_count": 6,
   "metadata": {},
   "outputs": [
    {
     "data": {
      "text/plain": [
       "72.270833"
      ]
     },
     "execution_count": 6,
     "metadata": {},
     "output_type": "execute_result"
    }
   ],
   "source": [
    "airports.loc[:,'lat'].max()\n"
   ]
  },
  {
   "cell_type": "markdown",
   "metadata": {},
   "source": [
    "### Perform a search within airports DataFrame using the max latitude as a filter."
   ]
  },
  {
   "cell_type": "code",
   "execution_count": 7,
   "metadata": {},
   "outputs": [
    {
     "data": {
      "text/html": [
       "<div>\n",
       "<style scoped>\n",
       "    .dataframe tbody tr th:only-of-type {\n",
       "        vertical-align: middle;\n",
       "    }\n",
       "\n",
       "    .dataframe tbody tr th {\n",
       "        vertical-align: top;\n",
       "    }\n",
       "\n",
       "    .dataframe thead th {\n",
       "        text-align: right;\n",
       "    }\n",
       "</style>\n",
       "<table border=\"1\" class=\"dataframe\">\n",
       "  <thead>\n",
       "    <tr style=\"text-align: right;\">\n",
       "      <th></th>\n",
       "      <th>lat</th>\n",
       "      <th>lon</th>\n",
       "    </tr>\n",
       "    <tr>\n",
       "      <th>name</th>\n",
       "      <th></th>\n",
       "      <th></th>\n",
       "    </tr>\n",
       "  </thead>\n",
       "  <tbody>\n",
       "    <tr>\n",
       "      <th>Dillant Hopkins Airport</th>\n",
       "      <td>72.270833</td>\n",
       "      <td>42.898333</td>\n",
       "    </tr>\n",
       "  </tbody>\n",
       "</table>\n",
       "</div>"
      ],
      "text/plain": [
       "                               lat        lon\n",
       "name                                         \n",
       "Dillant Hopkins Airport  72.270833  42.898333"
      ]
     },
     "execution_count": 7,
     "metadata": {},
     "output_type": "execute_result"
    }
   ],
   "source": [
    "airports[airports['lat'] == airports.loc[:,'lat'].max()]"
   ]
  },
  {
   "cell_type": "markdown",
   "metadata": {},
   "source": [
    "### Because US in the northern hemisphere, latitude increases as you move further north.  Therefore to calculate the northernmost airport, I filtered the data to output the highest latitude value which proves it is the northern most airport.  Based on the results and assuming all data from the imported file is correct, Dillant Hopkins Airport is most north with a latitude of 72.27."
   ]
  },
  {
   "cell_type": "markdown",
   "metadata": {},
   "source": [
    "# 2.  What is the easternmost airport in the united states?"
   ]
  },
  {
   "cell_type": "code",
   "execution_count": 8,
   "metadata": {},
   "outputs": [
    {
     "data": {
      "text/html": [
       "<div>\n",
       "<style scoped>\n",
       "    .dataframe tbody tr th:only-of-type {\n",
       "        vertical-align: middle;\n",
       "    }\n",
       "\n",
       "    .dataframe tbody tr th {\n",
       "        vertical-align: top;\n",
       "    }\n",
       "\n",
       "    .dataframe thead th {\n",
       "        text-align: right;\n",
       "    }\n",
       "</style>\n",
       "<table border=\"1\" class=\"dataframe\">\n",
       "  <thead>\n",
       "    <tr style=\"text-align: right;\">\n",
       "      <th></th>\n",
       "      <th>lat</th>\n",
       "      <th>lon</th>\n",
       "    </tr>\n",
       "    <tr>\n",
       "      <th>name</th>\n",
       "      <th></th>\n",
       "      <th></th>\n",
       "    </tr>\n",
       "  </thead>\n",
       "  <tbody>\n",
       "    <tr>\n",
       "      <th>Dillant Hopkins Airport</th>\n",
       "      <td>72.270833</td>\n",
       "      <td>42.898333</td>\n",
       "    </tr>\n",
       "    <tr>\n",
       "      <th>Eastport Municipal Airport</th>\n",
       "      <td>44.910111</td>\n",
       "      <td>-67.012694</td>\n",
       "    </tr>\n",
       "    <tr>\n",
       "      <th>Houlton Intl</th>\n",
       "      <td>46.123083</td>\n",
       "      <td>-67.792056</td>\n",
       "    </tr>\n",
       "    <tr>\n",
       "      <th>Caribou Muni</th>\n",
       "      <td>46.871500</td>\n",
       "      <td>-68.017917</td>\n",
       "    </tr>\n",
       "    <tr>\n",
       "      <th>Northern Maine Rgnl At Presque Isle</th>\n",
       "      <td>46.688958</td>\n",
       "      <td>-68.044797</td>\n",
       "    </tr>\n",
       "  </tbody>\n",
       "</table>\n",
       "</div>"
      ],
      "text/plain": [
       "                                           lat        lon\n",
       "name                                                     \n",
       "Dillant Hopkins Airport              72.270833  42.898333\n",
       "Eastport Municipal Airport           44.910111 -67.012694\n",
       "Houlton Intl                         46.123083 -67.792056\n",
       "Caribou Muni                         46.871500 -68.017917\n",
       "Northern Maine Rgnl At Presque Isle  46.688958 -68.044797"
      ]
     },
     "execution_count": 8,
     "metadata": {},
     "output_type": "execute_result"
    }
   ],
   "source": [
    "airports.head()"
   ]
  },
  {
   "cell_type": "markdown",
   "metadata": {},
   "source": [
    "### The longitudinal values for the United states range in the negative value. This means that  any values in the longitude column may either be an error and reside in another country.  To begin the search for eastern most airport, a filter is used to limit the output from -30 to -70 in the 'lon' column.  "
   ]
  },
  {
   "cell_type": "code",
   "execution_count": 9,
   "metadata": {},
   "outputs": [
    {
     "data": {
      "text/plain": [
       "lat    15\n",
       "lon    15\n",
       "dtype: int64"
      ]
     },
     "execution_count": 9,
     "metadata": {},
     "output_type": "execute_result"
    }
   ],
   "source": [
    "east_airports = airports[abs(airports['lon'] > -70)]\n",
    "east_airports.count()"
   ]
  },
  {
   "cell_type": "code",
   "execution_count": 10,
   "metadata": {},
   "outputs": [
    {
     "data": {
      "text/html": [
       "<div>\n",
       "<style scoped>\n",
       "    .dataframe tbody tr th:only-of-type {\n",
       "        vertical-align: middle;\n",
       "    }\n",
       "\n",
       "    .dataframe tbody tr th {\n",
       "        vertical-align: top;\n",
       "    }\n",
       "\n",
       "    .dataframe thead th {\n",
       "        text-align: right;\n",
       "    }\n",
       "</style>\n",
       "<table border=\"1\" class=\"dataframe\">\n",
       "  <thead>\n",
       "    <tr style=\"text-align: right;\">\n",
       "      <th></th>\n",
       "      <th>lat</th>\n",
       "      <th>lon</th>\n",
       "    </tr>\n",
       "    <tr>\n",
       "      <th>name</th>\n",
       "      <th></th>\n",
       "      <th></th>\n",
       "    </tr>\n",
       "  </thead>\n",
       "  <tbody>\n",
       "    <tr>\n",
       "      <th>Eastport Municipal Airport</th>\n",
       "      <td>44.910111</td>\n",
       "      <td>-67.012694</td>\n",
       "    </tr>\n",
       "    <tr>\n",
       "      <th>Houlton Intl</th>\n",
       "      <td>46.123083</td>\n",
       "      <td>-67.792056</td>\n",
       "    </tr>\n",
       "    <tr>\n",
       "      <th>Caribou Muni</th>\n",
       "      <td>46.871500</td>\n",
       "      <td>-68.017917</td>\n",
       "    </tr>\n",
       "    <tr>\n",
       "      <th>Northern Maine Rgnl At Presque Isle</th>\n",
       "      <td>46.688958</td>\n",
       "      <td>-68.044797</td>\n",
       "    </tr>\n",
       "    <tr>\n",
       "      <th>Northern Aroostook Regional Airport</th>\n",
       "      <td>47.285556</td>\n",
       "      <td>-68.312778</td>\n",
       "    </tr>\n",
       "    <tr>\n",
       "      <th>Hancock County - Bar Harbor</th>\n",
       "      <td>44.449769</td>\n",
       "      <td>-68.361565</td>\n",
       "    </tr>\n",
       "    <tr>\n",
       "      <th>Banks Airport</th>\n",
       "      <td>44.165389</td>\n",
       "      <td>-68.428167</td>\n",
       "    </tr>\n",
       "    <tr>\n",
       "      <th>Millinocket Muni</th>\n",
       "      <td>45.647836</td>\n",
       "      <td>-68.685561</td>\n",
       "    </tr>\n",
       "    <tr>\n",
       "      <th>Bangor Intl</th>\n",
       "      <td>44.807444</td>\n",
       "      <td>-68.828139</td>\n",
       "    </tr>\n",
       "    <tr>\n",
       "      <th>Knox County Regional Airport</th>\n",
       "      <td>44.060111</td>\n",
       "      <td>-69.099230</td>\n",
       "    </tr>\n",
       "    <tr>\n",
       "      <th>Augusta State</th>\n",
       "      <td>44.320647</td>\n",
       "      <td>-69.797317</td>\n",
       "    </tr>\n",
       "  </tbody>\n",
       "</table>\n",
       "</div>"
      ],
      "text/plain": [
       "                                           lat        lon\n",
       "name                                                     \n",
       "Eastport Municipal Airport           44.910111 -67.012694\n",
       "Houlton Intl                         46.123083 -67.792056\n",
       "Caribou Muni                         46.871500 -68.017917\n",
       "Northern Maine Rgnl At Presque Isle  46.688958 -68.044797\n",
       "Northern Aroostook Regional Airport  47.285556 -68.312778\n",
       "Hancock County - Bar Harbor          44.449769 -68.361565\n",
       "Banks Airport                        44.165389 -68.428167\n",
       "Millinocket Muni                     45.647836 -68.685561\n",
       "Bangor Intl                          44.807444 -68.828139\n",
       "Knox County Regional Airport         44.060111 -69.099230\n",
       "Augusta State                        44.320647 -69.797317"
      ]
     },
     "execution_count": 10,
     "metadata": {},
     "output_type": "execute_result"
    }
   ],
   "source": [
    "east_airports = east_airports[abs(east_airports['lon'] < 0)]\n",
    "east_airports"
   ]
  },
  {
   "cell_type": "markdown",
   "metadata": {},
   "source": [
    "### Similar to the filter above, the highest negative value equates to eastern most airport while lowest equates to western most airport.  Using the filter on a newly created DataFrame object east_airports, the eastern most airport has been filtered out.  This airport is the Eastport Municipal Airport located in Maine."
   ]
  },
  {
   "cell_type": "code",
   "execution_count": 11,
   "metadata": {},
   "outputs": [
    {
     "data": {
      "text/html": [
       "<div>\n",
       "<style scoped>\n",
       "    .dataframe tbody tr th:only-of-type {\n",
       "        vertical-align: middle;\n",
       "    }\n",
       "\n",
       "    .dataframe tbody tr th {\n",
       "        vertical-align: top;\n",
       "    }\n",
       "\n",
       "    .dataframe thead th {\n",
       "        text-align: right;\n",
       "    }\n",
       "</style>\n",
       "<table border=\"1\" class=\"dataframe\">\n",
       "  <thead>\n",
       "    <tr style=\"text-align: right;\">\n",
       "      <th></th>\n",
       "      <th>lat</th>\n",
       "      <th>lon</th>\n",
       "    </tr>\n",
       "    <tr>\n",
       "      <th>name</th>\n",
       "      <th></th>\n",
       "      <th></th>\n",
       "    </tr>\n",
       "  </thead>\n",
       "  <tbody>\n",
       "    <tr>\n",
       "      <th>Eastport Municipal Airport</th>\n",
       "      <td>44.910111</td>\n",
       "      <td>-67.012694</td>\n",
       "    </tr>\n",
       "  </tbody>\n",
       "</table>\n",
       "</div>"
      ],
      "text/plain": [
       "                                  lat        lon\n",
       "name                                            \n",
       "Eastport Municipal Airport  44.910111 -67.012694"
      ]
     },
     "execution_count": 11,
     "metadata": {},
     "output_type": "execute_result"
    }
   ],
   "source": [
    "east_airports[east_airports['lon'] == east_airports.loc[:,'lon'].max()]"
   ]
  },
  {
   "cell_type": "markdown",
   "metadata": {},
   "source": [
    "# 3.  Which NY area airport had the windiest weather on February 12, 2013?"
   ]
  },
  {
   "cell_type": "code",
   "execution_count": 12,
   "metadata": {},
   "outputs": [
    {
     "data": {
      "text/html": [
       "<div>\n",
       "<style scoped>\n",
       "    .dataframe tbody tr th:only-of-type {\n",
       "        vertical-align: middle;\n",
       "    }\n",
       "\n",
       "    .dataframe tbody tr th {\n",
       "        vertical-align: top;\n",
       "    }\n",
       "\n",
       "    .dataframe thead th {\n",
       "        text-align: right;\n",
       "    }\n",
       "</style>\n",
       "<table border=\"1\" class=\"dataframe\">\n",
       "  <thead>\n",
       "    <tr style=\"text-align: right;\">\n",
       "      <th></th>\n",
       "      <th>origin</th>\n",
       "      <th>year</th>\n",
       "      <th>month</th>\n",
       "      <th>day</th>\n",
       "      <th>wind_speed</th>\n",
       "    </tr>\n",
       "  </thead>\n",
       "  <tbody>\n",
       "    <tr>\n",
       "      <th>0</th>\n",
       "      <td>EWR</td>\n",
       "      <td>2013</td>\n",
       "      <td>1</td>\n",
       "      <td>1</td>\n",
       "      <td>10.35702</td>\n",
       "    </tr>\n",
       "    <tr>\n",
       "      <th>1</th>\n",
       "      <td>EWR</td>\n",
       "      <td>2013</td>\n",
       "      <td>1</td>\n",
       "      <td>1</td>\n",
       "      <td>8.05546</td>\n",
       "    </tr>\n",
       "    <tr>\n",
       "      <th>2</th>\n",
       "      <td>EWR</td>\n",
       "      <td>2013</td>\n",
       "      <td>1</td>\n",
       "      <td>1</td>\n",
       "      <td>11.50780</td>\n",
       "    </tr>\n",
       "    <tr>\n",
       "      <th>3</th>\n",
       "      <td>EWR</td>\n",
       "      <td>2013</td>\n",
       "      <td>1</td>\n",
       "      <td>1</td>\n",
       "      <td>12.65858</td>\n",
       "    </tr>\n",
       "    <tr>\n",
       "      <th>4</th>\n",
       "      <td>EWR</td>\n",
       "      <td>2013</td>\n",
       "      <td>1</td>\n",
       "      <td>1</td>\n",
       "      <td>12.65858</td>\n",
       "    </tr>\n",
       "  </tbody>\n",
       "</table>\n",
       "</div>"
      ],
      "text/plain": [
       "  origin  year  month  day  wind_speed\n",
       "0    EWR  2013      1    1    10.35702\n",
       "1    EWR  2013      1    1     8.05546\n",
       "2    EWR  2013      1    1    11.50780\n",
       "3    EWR  2013      1    1    12.65858\n",
       "4    EWR  2013      1    1    12.65858"
      ]
     },
     "execution_count": 12,
     "metadata": {},
     "output_type": "execute_result"
    }
   ],
   "source": [
    "weather = pd.read_csv('/Users/dukephung/Desktop/Spring2019/IS 362/' \\\n",
    "                      'nycflights13-master/data-raw/weather.csv',\n",
    "                     usecols=[0, 1, 2, 3, 9])\n",
    "weather.head()"
   ]
  },
  {
   "cell_type": "markdown",
   "metadata": {},
   "source": [
    "### Filter the rows based on year, day and month of desired search."
   ]
  },
  {
   "cell_type": "code",
   "execution_count": 13,
   "metadata": {},
   "outputs": [
    {
     "data": {
      "text/plain": [
       "origin            LGA\n",
       "year             2013\n",
       "month               2\n",
       "day                12\n",
       "wind_speed    1048.36\n",
       "dtype: object"
      ]
     },
     "execution_count": 13,
     "metadata": {},
     "output_type": "execute_result"
    }
   ],
   "source": [
    "weather_date = weather[weather['year'] == 2013]\n",
    "weather_date = weather_date[weather_date['month'] == 2]\n",
    "weather_date = weather_date[weather_date['day'] == 12]\n",
    "weather_date.max()\n"
   ]
  },
  {
   "cell_type": "markdown",
   "metadata": {},
   "source": [
    "### Identify and remove all outliers"
   ]
  },
  {
   "cell_type": "code",
   "execution_count": 14,
   "metadata": {},
   "outputs": [
    {
     "data": {
      "text/html": [
       "<div>\n",
       "<style scoped>\n",
       "    .dataframe tbody tr th:only-of-type {\n",
       "        vertical-align: middle;\n",
       "    }\n",
       "\n",
       "    .dataframe tbody tr th {\n",
       "        vertical-align: top;\n",
       "    }\n",
       "\n",
       "    .dataframe thead th {\n",
       "        text-align: right;\n",
       "    }\n",
       "</style>\n",
       "<table border=\"1\" class=\"dataframe\">\n",
       "  <thead>\n",
       "    <tr style=\"text-align: right;\">\n",
       "      <th></th>\n",
       "      <th>origin</th>\n",
       "      <th>year</th>\n",
       "      <th>month</th>\n",
       "      <th>day</th>\n",
       "      <th>wind_speed</th>\n",
       "    </tr>\n",
       "  </thead>\n",
       "  <tbody>\n",
       "    <tr>\n",
       "      <th>1009</th>\n",
       "      <td>EWR</td>\n",
       "      <td>2013</td>\n",
       "      <td>2</td>\n",
       "      <td>12</td>\n",
       "      <td>1048.36058</td>\n",
       "    </tr>\n",
       "  </tbody>\n",
       "</table>\n",
       "</div>"
      ],
      "text/plain": [
       "     origin  year  month  day  wind_speed\n",
       "1009    EWR  2013      2   12  1048.36058"
      ]
     },
     "execution_count": 14,
     "metadata": {},
     "output_type": "execute_result"
    }
   ],
   "source": [
    "outliers = weather_date[weather_date['wind_speed'] > 150]\n",
    "outliers"
   ]
  },
  {
   "cell_type": "markdown",
   "metadata": {},
   "source": [
    "### Results from output below indicates one outlier removed"
   ]
  },
  {
   "cell_type": "code",
   "execution_count": 15,
   "metadata": {},
   "outputs": [
    {
     "data": {
      "text/plain": [
       "origin        71\n",
       "year          71\n",
       "month         71\n",
       "day           71\n",
       "wind_speed    71\n",
       "dtype: int64"
      ]
     },
     "execution_count": 15,
     "metadata": {},
     "output_type": "execute_result"
    }
   ],
   "source": [
    "weather_date = weather_date[weather_date['wind_speed'] < 150]\n",
    "weather_date.count()"
   ]
  },
  {
   "cell_type": "markdown",
   "metadata": {},
   "source": [
    "### Use .max() function to output the highest wind_speed from weather_date DataFrame."
   ]
  },
  {
   "cell_type": "code",
   "execution_count": 16,
   "metadata": {},
   "outputs": [
    {
     "data": {
      "text/plain": [
       "origin            LGA\n",
       "year             2013\n",
       "month               2\n",
       "day                12\n",
       "wind_speed    23.0156\n",
       "dtype: object"
      ]
     },
     "execution_count": 16,
     "metadata": {},
     "output_type": "execute_result"
    }
   ],
   "source": [
    "weather_date.max()"
   ]
  },
  {
   "cell_type": "markdown",
   "metadata": {},
   "source": [
    "### The output from the previous line indicates that the origin airport, LGA, has the highest windspeed of 23.0156 on February 12, 2013."
   ]
  },
  {
   "cell_type": "code",
   "execution_count": null,
   "metadata": {},
   "outputs": [],
   "source": []
  }
 ],
 "metadata": {
  "kernelspec": {
   "display_name": "Python 3",
   "language": "python",
   "name": "python3"
  },
  "language_info": {
   "codemirror_mode": {
    "name": "ipython",
    "version": 3
   },
   "file_extension": ".py",
   "mimetype": "text/x-python",
   "name": "python",
   "nbconvert_exporter": "python",
   "pygments_lexer": "ipython3",
   "version": "3.7.0"
  }
 },
 "nbformat": 4,
 "nbformat_minor": 2
}
