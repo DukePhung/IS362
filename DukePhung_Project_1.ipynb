{
 "cells": [
  {
   "cell_type": "markdown",
   "metadata": {},
   "source": [
    "# CSV FILE WAS IMPORTED USING READ_CSV() METHOD AND ASSIGNED TO A VARIABLE"
   ]
  },
  {
   "cell_type": "code",
   "execution_count": 1,
   "metadata": {},
   "outputs": [],
   "source": [
    "import numpy as np\n",
    "import pandas as pd"
   ]
  },
  {
   "cell_type": "code",
   "execution_count": 2,
   "metadata": {},
   "outputs": [],
   "source": [
    "flights = pd.read_csv('/Users/dukephung/Desktop/Spring2019/IS 362/Project1_flights.csv',\n",
    "                     usecols=[1, 2, 3, 4, 5, 6])"
   ]
  },
  {
   "cell_type": "markdown",
   "metadata": {},
   "source": [
    "### DATA WAS SUMMED ACROSS THE ROW TO TOTAL ON TIME AND DELAYED TIME"
   ]
  },
  {
   "cell_type": "code",
   "execution_count": 3,
   "metadata": {},
   "outputs": [
    {
     "data": {
      "text/html": [
       "<div>\n",
       "<style scoped>\n",
       "    .dataframe tbody tr th:only-of-type {\n",
       "        vertical-align: middle;\n",
       "    }\n",
       "\n",
       "    .dataframe tbody tr th {\n",
       "        vertical-align: top;\n",
       "    }\n",
       "\n",
       "    .dataframe thead th {\n",
       "        text-align: right;\n",
       "    }\n",
       "</style>\n",
       "<table border=\"1\" class=\"dataframe\">\n",
       "  <thead>\n",
       "    <tr style=\"text-align: right;\">\n",
       "      <th></th>\n",
       "      <th>Status</th>\n",
       "      <th>Los Angeles</th>\n",
       "      <th>Phoenix</th>\n",
       "      <th>San Diego</th>\n",
       "      <th>San Francisco</th>\n",
       "      <th>Seattle</th>\n",
       "      <th>Total</th>\n",
       "    </tr>\n",
       "  </thead>\n",
       "  <tbody>\n",
       "    <tr>\n",
       "      <th>0</th>\n",
       "      <td>on time</td>\n",
       "      <td>497.0</td>\n",
       "      <td>221.0</td>\n",
       "      <td>212.0</td>\n",
       "      <td>503.0</td>\n",
       "      <td>1841.0</td>\n",
       "      <td>3274.0</td>\n",
       "    </tr>\n",
       "    <tr>\n",
       "      <th>1</th>\n",
       "      <td>delayed</td>\n",
       "      <td>62.0</td>\n",
       "      <td>12.0</td>\n",
       "      <td>20.0</td>\n",
       "      <td>102.0</td>\n",
       "      <td>305.0</td>\n",
       "      <td>501.0</td>\n",
       "    </tr>\n",
       "    <tr>\n",
       "      <th>2</th>\n",
       "      <td>NaN</td>\n",
       "      <td>NaN</td>\n",
       "      <td>NaN</td>\n",
       "      <td>NaN</td>\n",
       "      <td>NaN</td>\n",
       "      <td>NaN</td>\n",
       "      <td>0.0</td>\n",
       "    </tr>\n",
       "    <tr>\n",
       "      <th>3</th>\n",
       "      <td>on time</td>\n",
       "      <td>694.0</td>\n",
       "      <td>4840.0</td>\n",
       "      <td>383.0</td>\n",
       "      <td>320.0</td>\n",
       "      <td>201.0</td>\n",
       "      <td>6438.0</td>\n",
       "    </tr>\n",
       "    <tr>\n",
       "      <th>4</th>\n",
       "      <td>delayed</td>\n",
       "      <td>117.0</td>\n",
       "      <td>415.0</td>\n",
       "      <td>65.0</td>\n",
       "      <td>29.0</td>\n",
       "      <td>61.0</td>\n",
       "      <td>687.0</td>\n",
       "    </tr>\n",
       "  </tbody>\n",
       "</table>\n",
       "</div>"
      ],
      "text/plain": [
       "    Status  Los Angeles  Phoenix  San Diego  San Francisco  Seattle   Total\n",
       "0  on time        497.0    221.0      212.0          503.0   1841.0  3274.0\n",
       "1  delayed         62.0     12.0       20.0          102.0    305.0   501.0\n",
       "2      NaN          NaN      NaN        NaN            NaN      NaN     0.0\n",
       "3  on time        694.0   4840.0      383.0          320.0    201.0  6438.0\n",
       "4  delayed        117.0    415.0       65.0           29.0     61.0   687.0"
      ]
     },
     "execution_count": 3,
     "metadata": {},
     "output_type": "execute_result"
    }
   ],
   "source": [
    "flights['Total'] = flights.sum(axis=1)\n",
    "flights"
   ]
  },
  {
   "cell_type": "markdown",
   "metadata": {},
   "source": [
    "### ALASKA AIRLINES DATA ASSIGNED TO alaska VARIABLE USING .copy() TO RETAIN ORIGINAL INFORMATION"
   ]
  },
  {
   "cell_type": "code",
   "execution_count": 5,
   "metadata": {},
   "outputs": [
    {
     "data": {
      "text/html": [
       "<div>\n",
       "<style scoped>\n",
       "    .dataframe tbody tr th:only-of-type {\n",
       "        vertical-align: middle;\n",
       "    }\n",
       "\n",
       "    .dataframe tbody tr th {\n",
       "        vertical-align: top;\n",
       "    }\n",
       "\n",
       "    .dataframe thead th {\n",
       "        text-align: right;\n",
       "    }\n",
       "</style>\n",
       "<table border=\"1\" class=\"dataframe\">\n",
       "  <thead>\n",
       "    <tr style=\"text-align: right;\">\n",
       "      <th></th>\n",
       "      <th>Los Angeles</th>\n",
       "      <th>Phoenix</th>\n",
       "      <th>San Diego</th>\n",
       "      <th>San Francisco</th>\n",
       "      <th>Seattle</th>\n",
       "      <th>Total</th>\n",
       "    </tr>\n",
       "    <tr>\n",
       "      <th>Status</th>\n",
       "      <th></th>\n",
       "      <th></th>\n",
       "      <th></th>\n",
       "      <th></th>\n",
       "      <th></th>\n",
       "      <th></th>\n",
       "    </tr>\n",
       "  </thead>\n",
       "  <tbody>\n",
       "    <tr>\n",
       "      <th>on time</th>\n",
       "      <td>497.0</td>\n",
       "      <td>221.0</td>\n",
       "      <td>212.0</td>\n",
       "      <td>503.0</td>\n",
       "      <td>1841.0</td>\n",
       "      <td>3274.0</td>\n",
       "    </tr>\n",
       "    <tr>\n",
       "      <th>delayed</th>\n",
       "      <td>62.0</td>\n",
       "      <td>12.0</td>\n",
       "      <td>20.0</td>\n",
       "      <td>102.0</td>\n",
       "      <td>305.0</td>\n",
       "      <td>501.0</td>\n",
       "    </tr>\n",
       "  </tbody>\n",
       "</table>\n",
       "</div>"
      ],
      "text/plain": [
       "         Los Angeles  Phoenix  San Diego  San Francisco  Seattle   Total\n",
       "Status                                                                  \n",
       "on time        497.0    221.0      212.0          503.0   1841.0  3274.0\n",
       "delayed         62.0     12.0       20.0          102.0    305.0   501.0"
      ]
     },
     "execution_count": 5,
     "metadata": {},
     "output_type": "execute_result"
    }
   ],
   "source": [
    "alaska = flights[:2].copy().set_index('Status')\n",
    "alaska"
   ]
  },
  {
   "cell_type": "markdown",
   "metadata": {},
   "source": [
    "### AM WEST DATA ASSIGNED TO am_west VARIABLE USING .copy() TO RETAIN ORIGINAL DATA"
   ]
  },
  {
   "cell_type": "code",
   "execution_count": 6,
   "metadata": {},
   "outputs": [
    {
     "data": {
      "text/html": [
       "<div>\n",
       "<style scoped>\n",
       "    .dataframe tbody tr th:only-of-type {\n",
       "        vertical-align: middle;\n",
       "    }\n",
       "\n",
       "    .dataframe tbody tr th {\n",
       "        vertical-align: top;\n",
       "    }\n",
       "\n",
       "    .dataframe thead th {\n",
       "        text-align: right;\n",
       "    }\n",
       "</style>\n",
       "<table border=\"1\" class=\"dataframe\">\n",
       "  <thead>\n",
       "    <tr style=\"text-align: right;\">\n",
       "      <th></th>\n",
       "      <th>Los Angeles</th>\n",
       "      <th>Phoenix</th>\n",
       "      <th>San Diego</th>\n",
       "      <th>San Francisco</th>\n",
       "      <th>Seattle</th>\n",
       "      <th>Total</th>\n",
       "    </tr>\n",
       "    <tr>\n",
       "      <th>Status</th>\n",
       "      <th></th>\n",
       "      <th></th>\n",
       "      <th></th>\n",
       "      <th></th>\n",
       "      <th></th>\n",
       "      <th></th>\n",
       "    </tr>\n",
       "  </thead>\n",
       "  <tbody>\n",
       "    <tr>\n",
       "      <th>on time</th>\n",
       "      <td>694.0</td>\n",
       "      <td>4840.0</td>\n",
       "      <td>383.0</td>\n",
       "      <td>320.0</td>\n",
       "      <td>201.0</td>\n",
       "      <td>6438.0</td>\n",
       "    </tr>\n",
       "    <tr>\n",
       "      <th>delayed</th>\n",
       "      <td>117.0</td>\n",
       "      <td>415.0</td>\n",
       "      <td>65.0</td>\n",
       "      <td>29.0</td>\n",
       "      <td>61.0</td>\n",
       "      <td>687.0</td>\n",
       "    </tr>\n",
       "  </tbody>\n",
       "</table>\n",
       "</div>"
      ],
      "text/plain": [
       "         Los Angeles  Phoenix  San Diego  San Francisco  Seattle   Total\n",
       "Status                                                                  \n",
       "on time        694.0   4840.0      383.0          320.0    201.0  6438.0\n",
       "delayed        117.0    415.0       65.0           29.0     61.0   687.0"
      ]
     },
     "execution_count": 6,
     "metadata": {},
     "output_type": "execute_result"
    }
   ],
   "source": [
    "am_west = flights[3:5].copy().set_index('Status')\n",
    "am_west"
   ]
  },
  {
   "cell_type": "markdown",
   "metadata": {},
   "source": [
    "### CALCULATE ON TIME PERCENTAGE"
   ]
  },
  {
   "cell_type": "code",
   "execution_count": 7,
   "metadata": {},
   "outputs": [
    {
     "data": {
      "text/plain": [
       "86.72847682119206"
      ]
     },
     "execution_count": 7,
     "metadata": {},
     "output_type": "execute_result"
    }
   ],
   "source": [
    "alaska_eff = (alaska.at['on time', 'Total']/(alaska.at['on time', 'Total'] + \n",
    "                                             alaska.at['delayed', 'Total']) * 100)\n",
    "alaska_eff"
   ]
  },
  {
   "cell_type": "code",
   "execution_count": 8,
   "metadata": {},
   "outputs": [
    {
     "data": {
      "text/plain": [
       "90.3578947368421"
      ]
     },
     "execution_count": 8,
     "metadata": {},
     "output_type": "execute_result"
    }
   ],
   "source": [
    "am_west_eff = (am_west.at['on time', 'Total']/(am_west.at['on time', 'Total'] + \n",
    "                                             am_west.at['delayed', 'Total']) * 100)\n",
    "am_west_eff"
   ]
  },
  {
   "cell_type": "code",
   "execution_count": 9,
   "metadata": {},
   "outputs": [
    {
     "name": "stdout",
     "output_type": "stream",
     "text": [
      "Am West are more efficient with 90.36 percent on time\n"
     ]
    }
   ],
   "source": [
    "if alaska_eff > am_west_eff:\n",
    "    print('Alaska flights were more dependable with {:.2f} percentage on time'.format(alaska_eff))\n",
    "else:\n",
    "    print('Am West are more efficient with {:.2f} percent on time'.format(am_west_eff))"
   ]
  },
  {
   "cell_type": "markdown",
   "metadata": {},
   "source": [
    "### Restructure both airline data into new DataFrame with airline name as key and status as index"
   ]
  },
  {
   "cell_type": "code",
   "execution_count": 10,
   "metadata": {},
   "outputs": [
    {
     "data": {
      "text/html": [
       "<div>\n",
       "<style scoped>\n",
       "    .dataframe tbody tr th:only-of-type {\n",
       "        vertical-align: middle;\n",
       "    }\n",
       "\n",
       "    .dataframe tbody tr th {\n",
       "        vertical-align: top;\n",
       "    }\n",
       "\n",
       "    .dataframe thead th {\n",
       "        text-align: right;\n",
       "    }\n",
       "</style>\n",
       "<table border=\"1\" class=\"dataframe\">\n",
       "  <thead>\n",
       "    <tr style=\"text-align: right;\">\n",
       "      <th></th>\n",
       "      <th></th>\n",
       "      <th>Los Angeles</th>\n",
       "      <th>Phoenix</th>\n",
       "      <th>San Diego</th>\n",
       "      <th>San Francisco</th>\n",
       "      <th>Seattle</th>\n",
       "      <th>Total</th>\n",
       "    </tr>\n",
       "    <tr>\n",
       "      <th></th>\n",
       "      <th>Status</th>\n",
       "      <th></th>\n",
       "      <th></th>\n",
       "      <th></th>\n",
       "      <th></th>\n",
       "      <th></th>\n",
       "      <th></th>\n",
       "    </tr>\n",
       "  </thead>\n",
       "  <tbody>\n",
       "    <tr>\n",
       "      <th rowspan=\"2\" valign=\"top\">ALASKA</th>\n",
       "      <th>on time</th>\n",
       "      <td>497.0</td>\n",
       "      <td>221.0</td>\n",
       "      <td>212.0</td>\n",
       "      <td>503.0</td>\n",
       "      <td>1841.0</td>\n",
       "      <td>3274.0</td>\n",
       "    </tr>\n",
       "    <tr>\n",
       "      <th>delayed</th>\n",
       "      <td>62.0</td>\n",
       "      <td>12.0</td>\n",
       "      <td>20.0</td>\n",
       "      <td>102.0</td>\n",
       "      <td>305.0</td>\n",
       "      <td>501.0</td>\n",
       "    </tr>\n",
       "    <tr>\n",
       "      <th rowspan=\"2\" valign=\"top\">AM WEST</th>\n",
       "      <th>on time</th>\n",
       "      <td>694.0</td>\n",
       "      <td>4840.0</td>\n",
       "      <td>383.0</td>\n",
       "      <td>320.0</td>\n",
       "      <td>201.0</td>\n",
       "      <td>6438.0</td>\n",
       "    </tr>\n",
       "    <tr>\n",
       "      <th>delayed</th>\n",
       "      <td>117.0</td>\n",
       "      <td>415.0</td>\n",
       "      <td>65.0</td>\n",
       "      <td>29.0</td>\n",
       "      <td>61.0</td>\n",
       "      <td>687.0</td>\n",
       "    </tr>\n",
       "  </tbody>\n",
       "</table>\n",
       "</div>"
      ],
      "text/plain": [
       "                 Los Angeles  Phoenix  San Diego  San Francisco  Seattle  \\\n",
       "        Status                                                             \n",
       "ALASKA  on time        497.0    221.0      212.0          503.0   1841.0   \n",
       "        delayed         62.0     12.0       20.0          102.0    305.0   \n",
       "AM WEST on time        694.0   4840.0      383.0          320.0    201.0   \n",
       "        delayed        117.0    415.0       65.0           29.0     61.0   \n",
       "\n",
       "                  Total  \n",
       "        Status           \n",
       "ALASKA  on time  3274.0  \n",
       "        delayed   501.0  \n",
       "AM WEST on time  6438.0  \n",
       "        delayed   687.0  "
      ]
     },
     "execution_count": 10,
     "metadata": {},
     "output_type": "execute_result"
    }
   ],
   "source": [
    "newflights = pd.concat([alaska, am_west], keys=['ALASKA', 'AM WEST'])\n",
    "newflights"
   ]
  },
  {
   "cell_type": "code",
   "execution_count": null,
   "metadata": {},
   "outputs": [],
   "source": []
  }
 ],
 "metadata": {
  "kernelspec": {
   "display_name": "Python 3",
   "language": "python",
   "name": "python3"
  },
  "language_info": {
   "codemirror_mode": {
    "name": "ipython",
    "version": 3
   },
   "file_extension": ".py",
   "mimetype": "text/x-python",
   "name": "python",
   "nbconvert_exporter": "python",
   "pygments_lexer": "ipython3",
   "version": "3.7.0"
  }
 },
 "nbformat": 4,
 "nbformat_minor": 2
}
