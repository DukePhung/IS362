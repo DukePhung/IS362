{
 "cells": [
  {
   "cell_type": "markdown",
   "metadata": {},
   "source": [
    "### The first step is in this project is to parse the desired stock data from the historical section of Yahoo finance.  This is done using BeautifulSoup.  Running the code requires the user to input a valid stock symbol that is listed in Yahoo finance.  The resulting data from the web are saved into a database using SQLite."
   ]
  },
  {
   "cell_type": "code",
   "execution_count": 1,
   "metadata": {},
   "outputs": [],
   "source": [
    "# !pip install BeautifulSoup"
   ]
  },
  {
   "cell_type": "code",
   "execution_count": 2,
   "metadata": {},
   "outputs": [
    {
     "name": "stdout",
     "output_type": "stream",
     "text": [
      "Please enter valid stock symbol: fb\n"
     ]
    }
   ],
   "source": [
    "from bs4 import BeautifulSoup\n",
    "import sqlite3 as sql\n",
    "import urllib.request, urllib.parse, urllib.error\n",
    "\n",
    "stock = input('Please enter valid stock symbol: ').upper()\n",
    "url = \"https://finance.yahoo.com/quote/\" + stock + \"/history?p=\" + stock\n",
    "html = urllib.request.urlopen(url).read()\n",
    "\n",
    "soup = BeautifulSoup(html, \"html.parser\")\n",
    "\n",
    "trs = soup.find_all('tr')\n",
    "\n",
    "with sql.connect('stocks.db') as conn:\n",
    "        cur = conn.cursor()\n",
    "        cur.execute('DROP TABLE IF EXISTS stocks')\n",
    "        cur.execute('CREATE TABLE stocks (Date int, Open_price int, High int, Low int, \\\n",
    "Closing int, Adj_close int, Volume int)')\n",
    "        \n",
    "for tr in trs:\n",
    "    tds = tr.find_all('td')\n",
    "    try:\n",
    "        date = str(tds[0].get_text())\n",
    "        open_price = str(tds[1].get_text())\n",
    "        high = str(tds[2].get_text())\n",
    "        low = str(tds[3].get_text())\n",
    "        closing = str(tds[4].get_text())\n",
    "        adj_close = str(tds[5].get_text())\n",
    "        volume = str(tds[6].get_text())\n",
    "    except:\n",
    "        continue\n",
    "    with sql.connect('stocks.db') as conn:\n",
    "        cur = conn.cursor()\n",
    "        cur.execute('INSERT INTO stocks (Date, Open_price, High, Low, Closing, Adj_close, Volume) \\\n",
    "        values (?,?,?,?,?,?,?)', (date, open_price, high, low, closing, adj_close, volume))\n",
    "        conn.commit()"
   ]
  },
  {
   "cell_type": "markdown",
   "metadata": {},
   "source": [
    "### Since no error was given, we can safely assume the data has been saved to the database.  A quick import using pandas dataframe method can verify the stored data.  Since the date was entered into the database in text format, we can use the parse_date parameter and use the date column of the data to be parsed as the date.  Finally, the first five records of the database are displayed using the .head() function."
   ]
  },
  {
   "cell_type": "code",
   "execution_count": 3,
   "metadata": {},
   "outputs": [
    {
     "data": {
      "text/html": [
       "<div>\n",
       "<style scoped>\n",
       "    .dataframe tbody tr th:only-of-type {\n",
       "        vertical-align: middle;\n",
       "    }\n",
       "\n",
       "    .dataframe tbody tr th {\n",
       "        vertical-align: top;\n",
       "    }\n",
       "\n",
       "    .dataframe thead th {\n",
       "        text-align: right;\n",
       "    }\n",
       "</style>\n",
       "<table border=\"1\" class=\"dataframe\">\n",
       "  <thead>\n",
       "    <tr style=\"text-align: right;\">\n",
       "      <th></th>\n",
       "      <th>Open_price</th>\n",
       "      <th>High</th>\n",
       "      <th>Low</th>\n",
       "      <th>Closing</th>\n",
       "      <th>Adj_close</th>\n",
       "      <th>Volume</th>\n",
       "    </tr>\n",
       "    <tr>\n",
       "      <th>Date</th>\n",
       "      <th></th>\n",
       "      <th></th>\n",
       "      <th></th>\n",
       "      <th></th>\n",
       "      <th></th>\n",
       "      <th></th>\n",
       "    </tr>\n",
       "  </thead>\n",
       "  <tbody>\n",
       "    <tr>\n",
       "      <th>2019-05-10</th>\n",
       "      <td>188.25</td>\n",
       "      <td>190.00</td>\n",
       "      <td>184.59</td>\n",
       "      <td>187.24</td>\n",
       "      <td>187.24</td>\n",
       "      <td>7,958,939</td>\n",
       "    </tr>\n",
       "    <tr>\n",
       "      <th>2019-05-09</th>\n",
       "      <td>187.20</td>\n",
       "      <td>189.77</td>\n",
       "      <td>186.26</td>\n",
       "      <td>188.65</td>\n",
       "      <td>188.65</td>\n",
       "      <td>12,948,800</td>\n",
       "    </tr>\n",
       "    <tr>\n",
       "      <th>2019-05-08</th>\n",
       "      <td>189.39</td>\n",
       "      <td>190.72</td>\n",
       "      <td>188.55</td>\n",
       "      <td>189.54</td>\n",
       "      <td>189.54</td>\n",
       "      <td>12,505,700</td>\n",
       "    </tr>\n",
       "    <tr>\n",
       "      <th>2019-05-07</th>\n",
       "      <td>192.54</td>\n",
       "      <td>192.90</td>\n",
       "      <td>187.85</td>\n",
       "      <td>189.77</td>\n",
       "      <td>189.77</td>\n",
       "      <td>16,253,000</td>\n",
       "    </tr>\n",
       "    <tr>\n",
       "      <th>2019-05-06</th>\n",
       "      <td>191.24</td>\n",
       "      <td>194.28</td>\n",
       "      <td>190.55</td>\n",
       "      <td>193.88</td>\n",
       "      <td>193.88</td>\n",
       "      <td>13,994,900</td>\n",
       "    </tr>\n",
       "    <tr>\n",
       "      <th>2019-05-03</th>\n",
       "      <td>194.38</td>\n",
       "      <td>196.16</td>\n",
       "      <td>193.71</td>\n",
       "      <td>195.47</td>\n",
       "      <td>195.47</td>\n",
       "      <td>14,575,400</td>\n",
       "    </tr>\n",
       "    <tr>\n",
       "      <th>2019-05-02</th>\n",
       "      <td>193.00</td>\n",
       "      <td>194.00</td>\n",
       "      <td>189.75</td>\n",
       "      <td>192.53</td>\n",
       "      <td>192.53</td>\n",
       "      <td>13,209,500</td>\n",
       "    </tr>\n",
       "    <tr>\n",
       "      <th>2019-05-01</th>\n",
       "      <td>194.78</td>\n",
       "      <td>196.18</td>\n",
       "      <td>193.01</td>\n",
       "      <td>193.03</td>\n",
       "      <td>193.03</td>\n",
       "      <td>15,996,600</td>\n",
       "    </tr>\n",
       "    <tr>\n",
       "      <th>2019-04-30</th>\n",
       "      <td>194.19</td>\n",
       "      <td>197.39</td>\n",
       "      <td>192.28</td>\n",
       "      <td>193.40</td>\n",
       "      <td>193.40</td>\n",
       "      <td>23,494,700</td>\n",
       "    </tr>\n",
       "    <tr>\n",
       "      <th>2019-04-29</th>\n",
       "      <td>190.95</td>\n",
       "      <td>195.41</td>\n",
       "      <td>190.65</td>\n",
       "      <td>194.78</td>\n",
       "      <td>194.78</td>\n",
       "      <td>19,641,300</td>\n",
       "    </tr>\n",
       "  </tbody>\n",
       "</table>\n",
       "</div>"
      ],
      "text/plain": [
       "            Open_price    High     Low  Closing  Adj_close      Volume\n",
       "Date                                                                  \n",
       "2019-05-10      188.25  190.00  184.59   187.24     187.24   7,958,939\n",
       "2019-05-09      187.20  189.77  186.26   188.65     188.65  12,948,800\n",
       "2019-05-08      189.39  190.72  188.55   189.54     189.54  12,505,700\n",
       "2019-05-07      192.54  192.90  187.85   189.77     189.77  16,253,000\n",
       "2019-05-06      191.24  194.28  190.55   193.88     193.88  13,994,900\n",
       "2019-05-03      194.38  196.16  193.71   195.47     195.47  14,575,400\n",
       "2019-05-02      193.00  194.00  189.75   192.53     192.53  13,209,500\n",
       "2019-05-01      194.78  196.18  193.01   193.03     193.03  15,996,600\n",
       "2019-04-30      194.19  197.39  192.28   193.40     193.40  23,494,700\n",
       "2019-04-29      190.95  195.41  190.65   194.78     194.78  19,641,300"
      ]
     },
     "execution_count": 3,
     "metadata": {},
     "output_type": "execute_result"
    }
   ],
   "source": [
    "import pandas as pd\n",
    "import numpy as np\n",
    "\n",
    "connection = sql.connect('stocks.db')\n",
    "result = pd.io.sql.read_sql('SELECT * FROM stocks', connection, parse_dates = ['Date'],\n",
    "                           index_col='Date')\n",
    "connection.close()\n",
    "result.head(10)"
   ]
  },
  {
   "cell_type": "code",
   "execution_count": 4,
   "metadata": {},
   "outputs": [
    {
     "data": {
      "text/plain": [
       "pandas.core.frame.DataFrame"
      ]
     },
     "execution_count": 4,
     "metadata": {},
     "output_type": "execute_result"
    }
   ],
   "source": [
    "# Verify the type of object\n",
    "type(result)"
   ]
  },
  {
   "cell_type": "code",
   "execution_count": 5,
   "metadata": {},
   "outputs": [
    {
     "data": {
      "text/plain": [
       "Open_price    float64\n",
       "High          float64\n",
       "Low           float64\n",
       "Closing       float64\n",
       "Adj_close     float64\n",
       "Volume         object\n",
       "dtype: object"
      ]
     },
     "execution_count": 5,
     "metadata": {},
     "output_type": "execute_result"
    }
   ],
   "source": [
    "result.dtypes"
   ]
  },
  {
   "cell_type": "markdown",
   "metadata": {},
   "source": [
    "### There are a rare occassional few stocks that value in the thousands which result in a comma in the data.  This data will be imported as a string making it hard to perform aggregations.  The following code will ensure commas are removed if this is the case."
   ]
  },
  {
   "cell_type": "code",
   "execution_count": 6,
   "metadata": {},
   "outputs": [
    {
     "name": "stdout",
     "output_type": "stream",
     "text": [
      "Imported data already in numeric form\n"
     ]
    }
   ],
   "source": [
    "try:\n",
    "    result['Volume'] = result.Volume.str.replace(\",\", \"\").astype(int)\n",
    "    result['Open_price'] = result.Open_price.str.replace(\",\", \"\").astype(float)\n",
    "    result['High'] = result.High.str.replace(\",\", \"\").astype(float)\n",
    "    result['Low'] = result.Low.str.replace(\",\", \"\").astype(float)\n",
    "    result['Closing'] = result.Closing.str.replace(\",\", \"\").astype(float)\n",
    "    result['Adj_close'] = result.Adj_close.str.replace(\",\", \"\").astype(float)\n",
    "    print('All data converted to numeric form for analysis')\n",
    "except:\n",
    "    print('Imported data already in numeric form')"
   ]
  },
  {
   "cell_type": "code",
   "execution_count": 7,
   "metadata": {},
   "outputs": [
    {
     "data": {
      "text/plain": [
       "Open_price    float64\n",
       "High          float64\n",
       "Low           float64\n",
       "Closing       float64\n",
       "Adj_close     float64\n",
       "Volume          int64\n",
       "dtype: object"
      ]
     },
     "execution_count": 7,
     "metadata": {},
     "output_type": "execute_result"
    }
   ],
   "source": [
    "# Verify the data types are now float and integers\n",
    "result.dtypes"
   ]
  },
  {
   "cell_type": "markdown",
   "metadata": {},
   "source": [
    "### Since all the data are now either float or integer values, we can use the describe() function to give overall statistics regarding the desired stock."
   ]
  },
  {
   "cell_type": "code",
   "execution_count": 8,
   "metadata": {},
   "outputs": [
    {
     "data": {
      "text/html": [
       "<div>\n",
       "<style scoped>\n",
       "    .dataframe tbody tr th:only-of-type {\n",
       "        vertical-align: middle;\n",
       "    }\n",
       "\n",
       "    .dataframe tbody tr th {\n",
       "        vertical-align: top;\n",
       "    }\n",
       "\n",
       "    .dataframe thead th {\n",
       "        text-align: right;\n",
       "    }\n",
       "</style>\n",
       "<table border=\"1\" class=\"dataframe\">\n",
       "  <thead>\n",
       "    <tr style=\"text-align: right;\">\n",
       "      <th></th>\n",
       "      <th>Open_price</th>\n",
       "      <th>High</th>\n",
       "      <th>Low</th>\n",
       "      <th>Closing</th>\n",
       "      <th>Adj_close</th>\n",
       "      <th>Volume</th>\n",
       "    </tr>\n",
       "  </thead>\n",
       "  <tbody>\n",
       "    <tr>\n",
       "      <th>count</th>\n",
       "      <td>100.000000</td>\n",
       "      <td>100.000000</td>\n",
       "      <td>100.000000</td>\n",
       "      <td>100.000000</td>\n",
       "      <td>100.000000</td>\n",
       "      <td>1.000000e+02</td>\n",
       "    </tr>\n",
       "    <tr>\n",
       "      <th>mean</th>\n",
       "      <td>163.277700</td>\n",
       "      <td>165.464100</td>\n",
       "      <td>161.544800</td>\n",
       "      <td>163.550100</td>\n",
       "      <td>163.550100</td>\n",
       "      <td>2.051375e+07</td>\n",
       "    </tr>\n",
       "    <tr>\n",
       "      <th>std</th>\n",
       "      <td>17.898495</td>\n",
       "      <td>17.353212</td>\n",
       "      <td>18.154441</td>\n",
       "      <td>17.811644</td>\n",
       "      <td>17.811644</td>\n",
       "      <td>1.147240e+07</td>\n",
       "    </tr>\n",
       "    <tr>\n",
       "      <th>min</th>\n",
       "      <td>123.100000</td>\n",
       "      <td>129.740000</td>\n",
       "      <td>123.020000</td>\n",
       "      <td>124.060000</td>\n",
       "      <td>124.060000</td>\n",
       "      <td>7.297400e+06</td>\n",
       "    </tr>\n",
       "    <tr>\n",
       "      <th>25%</th>\n",
       "      <td>148.080000</td>\n",
       "      <td>149.785000</td>\n",
       "      <td>146.330000</td>\n",
       "      <td>148.117500</td>\n",
       "      <td>148.117500</td>\n",
       "      <td>1.293860e+07</td>\n",
       "    </tr>\n",
       "    <tr>\n",
       "      <th>50%</th>\n",
       "      <td>165.490000</td>\n",
       "      <td>167.395000</td>\n",
       "      <td>163.815000</td>\n",
       "      <td>165.830000</td>\n",
       "      <td>165.830000</td>\n",
       "      <td>1.773990e+07</td>\n",
       "    </tr>\n",
       "    <tr>\n",
       "      <th>75%</th>\n",
       "      <td>175.312500</td>\n",
       "      <td>177.240000</td>\n",
       "      <td>174.447500</td>\n",
       "      <td>175.127500</td>\n",
       "      <td>175.127500</td>\n",
       "      <td>2.289928e+07</td>\n",
       "    </tr>\n",
       "    <tr>\n",
       "      <th>max</th>\n",
       "      <td>196.980000</td>\n",
       "      <td>198.480000</td>\n",
       "      <td>193.710000</td>\n",
       "      <td>195.470000</td>\n",
       "      <td>195.470000</td>\n",
       "      <td>7.723360e+07</td>\n",
       "    </tr>\n",
       "  </tbody>\n",
       "</table>\n",
       "</div>"
      ],
      "text/plain": [
       "       Open_price        High         Low     Closing   Adj_close  \\\n",
       "count  100.000000  100.000000  100.000000  100.000000  100.000000   \n",
       "mean   163.277700  165.464100  161.544800  163.550100  163.550100   \n",
       "std     17.898495   17.353212   18.154441   17.811644   17.811644   \n",
       "min    123.100000  129.740000  123.020000  124.060000  124.060000   \n",
       "25%    148.080000  149.785000  146.330000  148.117500  148.117500   \n",
       "50%    165.490000  167.395000  163.815000  165.830000  165.830000   \n",
       "75%    175.312500  177.240000  174.447500  175.127500  175.127500   \n",
       "max    196.980000  198.480000  193.710000  195.470000  195.470000   \n",
       "\n",
       "             Volume  \n",
       "count  1.000000e+02  \n",
       "mean   2.051375e+07  \n",
       "std    1.147240e+07  \n",
       "min    7.297400e+06  \n",
       "25%    1.293860e+07  \n",
       "50%    1.773990e+07  \n",
       "75%    2.289928e+07  \n",
       "max    7.723360e+07  "
      ]
     },
     "execution_count": 8,
     "metadata": {},
     "output_type": "execute_result"
    }
   ],
   "source": [
    "result.describe()"
   ]
  },
  {
   "cell_type": "markdown",
   "metadata": {},
   "source": [
    "### Aggregate functions will display similar results as statistical results."
   ]
  },
  {
   "cell_type": "code",
   "execution_count": 9,
   "metadata": {},
   "outputs": [
    {
     "name": "stdout",
     "output_type": "stream",
     "text": [
      "HIGH\n",
      "mean    165.4641\n",
      "amin    129.7400\n",
      "amax    198.4800\n",
      "Name: High, dtype: float64\n",
      "LOW\n",
      "mean    161.5448\n",
      "amin    123.0200\n",
      "amax    193.7100\n",
      "Name: Low, dtype: float64\n",
      "CLOSING\n",
      "mean    163.5501\n",
      "amin    124.0600\n",
      "amax    195.4700\n",
      "Name: Closing, dtype: float64\n"
     ]
    }
   ],
   "source": [
    "print('HIGH')\n",
    "print(result.High.agg([np.mean, np.min, np.max]))\n",
    "print('LOW')\n",
    "print(result.Low.agg([np.mean, np.min, np.max]))\n",
    "print('CLOSING')\n",
    "print(result.Closing.agg([np.mean, np.min, np.max]))"
   ]
  },
  {
   "cell_type": "markdown",
   "metadata": {},
   "source": [
    "### Since visualizations are simpler to read compared to a dataframe of values, a boxplot can be used to visualize statistical values.  Using a boxplot, a reader can quickly determine the min, max, median as well as the first and third quartile."
   ]
  },
  {
   "cell_type": "code",
   "execution_count": 10,
   "metadata": {},
   "outputs": [
    {
     "data": {
      "text/plain": [
       "<matplotlib.axes._subplots.AxesSubplot at 0x117f1f3c8>"
      ]
     },
     "execution_count": 10,
     "metadata": {},
     "output_type": "execute_result"
    },
    {
     "data": {
      "image/png": "[encoded data removed]",
      "text/plain": [
       "<Figure size 576x360 with 1 Axes>"
      ]
     },
     "metadata": {
      "needs_background": "light"
     },
     "output_type": "display_data"
    }
   ],
   "source": [
    "import matplotlib.pyplot as plt\n",
    "%matplotlib inline\n",
    "box = result[['Open_price', 'High', 'Low', 'Closing']]\n",
    "box.boxplot(figsize=(8,5))"
   ]
  },
  {
   "cell_type": "markdown",
   "metadata": {},
   "source": [
    "### To conclude the analysis, a line chart with the high and low are graphed together to visualize the trend for the last 6 months of data."
   ]
  },
  {
   "cell_type": "code",
   "execution_count": 11,
   "metadata": {},
   "outputs": [],
   "source": [
    "high = result['High']\n",
    "low = result['Low']\n",
    "closing = result['Closing']"
   ]
  },
  {
   "cell_type": "code",
   "execution_count": 12,
   "metadata": {},
   "outputs": [
    {
     "data": {
      "text/plain": [
       "Text(0,0.5,'Price in Dollars')"
      ]
     },
     "execution_count": 12,
     "metadata": {},
     "output_type": "execute_result"
    },
    {
     "data": {
      "image/png": "[encoded data removed]",
      "text/plain": [
       "<Figure size 1080x720 with 1 Axes>"
      ]
     },
     "metadata": {
      "needs_background": "light"
     },
     "output_type": "display_data"
    }
   ],
   "source": [
    "high.plot(figsize=(15,10))\n",
    "low.plot(figsize=(15,10))\n",
    "plt.legend(loc='upper left')\n",
    "plt.title(stock + ' Bi-Annual Stock High and Low Price')\n",
    "plt.xlabel('Date')\n",
    "plt.ylabel('Price in Dollars')"
   ]
  },
  {
   "cell_type": "code",
   "execution_count": null,
   "metadata": {},
   "outputs": [],
   "source": []
  }
 ],
 "metadata": {
  "kernelspec": {
   "display_name": "Python 3",
   "language": "python",
   "name": "python3"
  },
  "language_info": {
   "codemirror_mode": {
    "name": "ipython",
    "version": 3
   },
   "file_extension": ".py",
   "mimetype": "text/x-python",
   "name": "python",
   "nbconvert_exporter": "python",
   "pygments_lexer": "ipython3",
   "version": "3.7.2"
  }
 },
 "nbformat": 4,
 "nbformat_minor": 2
}
