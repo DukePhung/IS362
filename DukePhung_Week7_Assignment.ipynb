{
 "cells": [
  {
   "cell_type": "code",
   "execution_count": 1,
   "metadata": {},
   "outputs": [],
   "source": [
    "import numpy as np\n",
    "import pandas as pd"
   ]
  },
  {
   "cell_type": "markdown",
   "metadata": {},
   "source": [
    "### Use pandas to import the required file and set the viewer name as index"
   ]
  },
  {
   "cell_type": "code",
   "execution_count": 22,
   "metadata": {},
   "outputs": [
    {
     "data": {
      "text/html": [
       "<div>\n",
       "<style scoped>\n",
       "    .dataframe tbody tr th:only-of-type {\n",
       "        vertical-align: middle;\n",
       "    }\n",
       "\n",
       "    .dataframe tbody tr th {\n",
       "        vertical-align: top;\n",
       "    }\n",
       "\n",
       "    .dataframe thead th {\n",
       "        text-align: right;\n",
       "    }\n",
       "</style>\n",
       "<table border=\"1\" class=\"dataframe\">\n",
       "  <thead>\n",
       "    <tr style=\"text-align: right;\">\n",
       "      <th></th>\n",
       "      <th>Black Panther</th>\n",
       "      <th>Infinity War</th>\n",
       "      <th>Incredibles 2</th>\n",
       "      <th>Antman and the Wasp</th>\n",
       "      <th>Crazy Rich Asians</th>\n",
       "      <th>Deadpool 2</th>\n",
       "    </tr>\n",
       "    <tr>\n",
       "      <th>viewer</th>\n",
       "      <th></th>\n",
       "      <th></th>\n",
       "      <th></th>\n",
       "      <th></th>\n",
       "      <th></th>\n",
       "      <th></th>\n",
       "    </tr>\n",
       "  </thead>\n",
       "  <tbody>\n",
       "    <tr>\n",
       "      <th>Duke</th>\n",
       "      <td>4.0</td>\n",
       "      <td>3.0</td>\n",
       "      <td>5.0</td>\n",
       "      <td>4.0</td>\n",
       "      <td>NaN</td>\n",
       "      <td>3.0</td>\n",
       "    </tr>\n",
       "    <tr>\n",
       "      <th>Katrina</th>\n",
       "      <td>5.0</td>\n",
       "      <td>NaN</td>\n",
       "      <td>5.0</td>\n",
       "      <td>3.0</td>\n",
       "      <td>4.0</td>\n",
       "      <td>2.0</td>\n",
       "    </tr>\n",
       "    <tr>\n",
       "      <th>Ava</th>\n",
       "      <td>NaN</td>\n",
       "      <td>4.0</td>\n",
       "      <td>5.0</td>\n",
       "      <td>NaN</td>\n",
       "      <td>4.0</td>\n",
       "      <td>NaN</td>\n",
       "    </tr>\n",
       "    <tr>\n",
       "      <th>Michael</th>\n",
       "      <td>5.0</td>\n",
       "      <td>5.0</td>\n",
       "      <td>NaN</td>\n",
       "      <td>4.0</td>\n",
       "      <td>NaN</td>\n",
       "      <td>5.0</td>\n",
       "    </tr>\n",
       "    <tr>\n",
       "      <th>David</th>\n",
       "      <td>4.0</td>\n",
       "      <td>NaN</td>\n",
       "      <td>3.0</td>\n",
       "      <td>4.0</td>\n",
       "      <td>NaN</td>\n",
       "      <td>4.0</td>\n",
       "    </tr>\n",
       "    <tr>\n",
       "      <th>Jessica</th>\n",
       "      <td>NaN</td>\n",
       "      <td>3.0</td>\n",
       "      <td>4.0</td>\n",
       "      <td>NaN</td>\n",
       "      <td>5.0</td>\n",
       "      <td>3.0</td>\n",
       "    </tr>\n",
       "    <tr>\n",
       "      <th>Jane</th>\n",
       "      <td>3.0</td>\n",
       "      <td>4.0</td>\n",
       "      <td>NaN</td>\n",
       "      <td>4.0</td>\n",
       "      <td>5.0</td>\n",
       "      <td>NaN</td>\n",
       "    </tr>\n",
       "  </tbody>\n",
       "</table>\n",
       "</div>"
      ],
      "text/plain": [
       "         Black Panther  Infinity War  Incredibles 2  Antman and the Wasp  \\\n",
       "viewer                                                                     \n",
       "Duke               4.0           3.0            5.0                  4.0   \n",
       "Katrina            5.0           NaN            5.0                  3.0   \n",
       "Ava                NaN           4.0            5.0                  NaN   \n",
       "Michael            5.0           5.0            NaN                  4.0   \n",
       "David              4.0           NaN            3.0                  4.0   \n",
       "Jessica            NaN           3.0            4.0                  NaN   \n",
       "Jane               3.0           4.0            NaN                  4.0   \n",
       "\n",
       "         Crazy Rich Asians  Deadpool 2  \n",
       "viewer                                  \n",
       "Duke                   NaN         3.0  \n",
       "Katrina                4.0         2.0  \n",
       "Ava                    4.0         NaN  \n",
       "Michael                NaN         5.0  \n",
       "David                  NaN         4.0  \n",
       "Jessica                5.0         3.0  \n",
       "Jane                   5.0         NaN  "
      ]
     },
     "execution_count": 22,
     "metadata": {},
     "output_type": "execute_result"
    }
   ],
   "source": [
    "ratings = pd.read_csv('MovieRatings.csv')\n",
    "ratings = ratings.set_index('viewer')\n",
    "ratings"
   ]
  },
  {
   "cell_type": "markdown",
   "metadata": {},
   "source": [
    "### To obtain the average, the .mean() method is used.  Without the use of the axis parameter, the method is applied vertically giving the average rating for the movie."
   ]
  },
  {
   "cell_type": "code",
   "execution_count": 20,
   "metadata": {},
   "outputs": [
    {
     "data": {
      "text/plain": [
       "Black Panther          4.2\n",
       "Infinity War           3.8\n",
       "Incredibles 2          4.4\n",
       "Antman and the Wasp    3.8\n",
       "Crazy Rich Asians      4.5\n",
       "Deadpool 2             3.4\n",
       "dtype: float64"
      ]
     },
     "execution_count": 20,
     "metadata": {},
     "output_type": "execute_result"
    }
   ],
   "source": [
    "average_movie_rating = ratings.mean()\n",
    "average_movie_rating"
   ]
  },
  {
   "cell_type": "markdown",
   "metadata": {},
   "source": [
    "### To obtain the average ratings given by the user, the same .mean() method will be use and the axis parameter will be set to 1 to give aggregate across each row."
   ]
  },
  {
   "cell_type": "code",
   "execution_count": 21,
   "metadata": {},
   "outputs": [
    {
     "data": {
      "text/plain": [
       "viewer\n",
       "Duke       3.800000\n",
       "Katrina    3.800000\n",
       "Ava        4.333333\n",
       "Michael    4.750000\n",
       "David      3.750000\n",
       "Jessica    3.750000\n",
       "Jane       4.000000\n",
       "dtype: float64"
      ]
     },
     "execution_count": 21,
     "metadata": {},
     "output_type": "execute_result"
    }
   ],
   "source": [
    "average_viewer_rating = ratings.mean(axis=1)\n",
    "average_viewer_rating"
   ]
  },
  {
   "cell_type": "markdown",
   "metadata": {},
   "source": [
    "### Creating a new DataFrame with normalized rating and standardized rating."
   ]
  },
  {
   "cell_type": "code",
   "execution_count": 43,
   "metadata": {},
   "outputs": [
    {
     "data": {
      "text/html": [
       "<div>\n",
       "<style scoped>\n",
       "    .dataframe tbody tr th:only-of-type {\n",
       "        vertical-align: middle;\n",
       "    }\n",
       "\n",
       "    .dataframe tbody tr th {\n",
       "        vertical-align: top;\n",
       "    }\n",
       "\n",
       "    .dataframe thead th {\n",
       "        text-align: right;\n",
       "    }\n",
       "</style>\n",
       "<table border=\"1\" class=\"dataframe\">\n",
       "  <thead>\n",
       "    <tr style=\"text-align: right;\">\n",
       "      <th></th>\n",
       "      <th>Black Panther</th>\n",
       "      <th>Infinity War</th>\n",
       "      <th>Incredibles 2</th>\n",
       "      <th>Antman and the Wasp</th>\n",
       "      <th>Crazy Rich Asians</th>\n",
       "      <th>Deadpool 2</th>\n",
       "    </tr>\n",
       "    <tr>\n",
       "      <th>viewer</th>\n",
       "      <th></th>\n",
       "      <th></th>\n",
       "      <th></th>\n",
       "      <th></th>\n",
       "      <th></th>\n",
       "      <th></th>\n",
       "    </tr>\n",
       "  </thead>\n",
       "  <tbody>\n",
       "    <tr>\n",
       "      <th>Duke</th>\n",
       "      <td>0.5</td>\n",
       "      <td>0.0</td>\n",
       "      <td>1.0</td>\n",
       "      <td>1.0</td>\n",
       "      <td>NaN</td>\n",
       "      <td>0.333333</td>\n",
       "    </tr>\n",
       "    <tr>\n",
       "      <th>Katrina</th>\n",
       "      <td>1.0</td>\n",
       "      <td>NaN</td>\n",
       "      <td>1.0</td>\n",
       "      <td>0.0</td>\n",
       "      <td>0.0</td>\n",
       "      <td>0.000000</td>\n",
       "    </tr>\n",
       "    <tr>\n",
       "      <th>Ava</th>\n",
       "      <td>NaN</td>\n",
       "      <td>0.5</td>\n",
       "      <td>1.0</td>\n",
       "      <td>NaN</td>\n",
       "      <td>0.0</td>\n",
       "      <td>NaN</td>\n",
       "    </tr>\n",
       "    <tr>\n",
       "      <th>Michael</th>\n",
       "      <td>1.0</td>\n",
       "      <td>1.0</td>\n",
       "      <td>NaN</td>\n",
       "      <td>1.0</td>\n",
       "      <td>NaN</td>\n",
       "      <td>1.000000</td>\n",
       "    </tr>\n",
       "    <tr>\n",
       "      <th>David</th>\n",
       "      <td>0.5</td>\n",
       "      <td>NaN</td>\n",
       "      <td>0.0</td>\n",
       "      <td>1.0</td>\n",
       "      <td>NaN</td>\n",
       "      <td>0.666667</td>\n",
       "    </tr>\n",
       "    <tr>\n",
       "      <th>Jessica</th>\n",
       "      <td>NaN</td>\n",
       "      <td>0.0</td>\n",
       "      <td>0.5</td>\n",
       "      <td>NaN</td>\n",
       "      <td>1.0</td>\n",
       "      <td>0.333333</td>\n",
       "    </tr>\n",
       "    <tr>\n",
       "      <th>Jane</th>\n",
       "      <td>0.0</td>\n",
       "      <td>0.5</td>\n",
       "      <td>NaN</td>\n",
       "      <td>1.0</td>\n",
       "      <td>1.0</td>\n",
       "      <td>NaN</td>\n",
       "    </tr>\n",
       "  </tbody>\n",
       "</table>\n",
       "</div>"
      ],
      "text/plain": [
       "         Black Panther  Infinity War  Incredibles 2  Antman and the Wasp  \\\n",
       "viewer                                                                     \n",
       "Duke               0.5           0.0            1.0                  1.0   \n",
       "Katrina            1.0           NaN            1.0                  0.0   \n",
       "Ava                NaN           0.5            1.0                  NaN   \n",
       "Michael            1.0           1.0            NaN                  1.0   \n",
       "David              0.5           NaN            0.0                  1.0   \n",
       "Jessica            NaN           0.0            0.5                  NaN   \n",
       "Jane               0.0           0.5            NaN                  1.0   \n",
       "\n",
       "         Crazy Rich Asians  Deadpool 2  \n",
       "viewer                                  \n",
       "Duke                   NaN    0.333333  \n",
       "Katrina                0.0    0.000000  \n",
       "Ava                    0.0         NaN  \n",
       "Michael                NaN    1.000000  \n",
       "David                  NaN    0.666667  \n",
       "Jessica                1.0    0.333333  \n",
       "Jane                   1.0         NaN  "
      ]
     },
     "execution_count": 43,
     "metadata": {},
     "output_type": "execute_result"
    }
   ],
   "source": [
    "normalized_rating = (ratings - ratings.min())/(ratings.max() - ratings.min())\n",
    "normalized_rating"
   ]
  },
  {
   "cell_type": "code",
   "execution_count": 44,
   "metadata": {},
   "outputs": [
    {
     "data": {
      "text/html": [
       "<div>\n",
       "<style scoped>\n",
       "    .dataframe tbody tr th:only-of-type {\n",
       "        vertical-align: middle;\n",
       "    }\n",
       "\n",
       "    .dataframe tbody tr th {\n",
       "        vertical-align: top;\n",
       "    }\n",
       "\n",
       "    .dataframe thead th {\n",
       "        text-align: right;\n",
       "    }\n",
       "</style>\n",
       "<table border=\"1\" class=\"dataframe\">\n",
       "  <thead>\n",
       "    <tr style=\"text-align: right;\">\n",
       "      <th></th>\n",
       "      <th>Black Panther</th>\n",
       "      <th>Infinity War</th>\n",
       "      <th>Incredibles 2</th>\n",
       "      <th>Antman and the Wasp</th>\n",
       "      <th>Crazy Rich Asians</th>\n",
       "      <th>Deadpool 2</th>\n",
       "    </tr>\n",
       "    <tr>\n",
       "      <th>viewer</th>\n",
       "      <th></th>\n",
       "      <th></th>\n",
       "      <th></th>\n",
       "      <th></th>\n",
       "      <th></th>\n",
       "      <th></th>\n",
       "    </tr>\n",
       "  </thead>\n",
       "  <tbody>\n",
       "    <tr>\n",
       "      <th>Duke</th>\n",
       "      <td>-0.239046</td>\n",
       "      <td>-0.956183</td>\n",
       "      <td>0.670820</td>\n",
       "      <td>0.447214</td>\n",
       "      <td>NaN</td>\n",
       "      <td>-0.350823</td>\n",
       "    </tr>\n",
       "    <tr>\n",
       "      <th>Katrina</th>\n",
       "      <td>0.956183</td>\n",
       "      <td>NaN</td>\n",
       "      <td>0.670820</td>\n",
       "      <td>-1.788854</td>\n",
       "      <td>-0.866025</td>\n",
       "      <td>-1.227881</td>\n",
       "    </tr>\n",
       "    <tr>\n",
       "      <th>Ava</th>\n",
       "      <td>NaN</td>\n",
       "      <td>0.239046</td>\n",
       "      <td>0.670820</td>\n",
       "      <td>NaN</td>\n",
       "      <td>-0.866025</td>\n",
       "      <td>NaN</td>\n",
       "    </tr>\n",
       "    <tr>\n",
       "      <th>Michael</th>\n",
       "      <td>0.956183</td>\n",
       "      <td>1.434274</td>\n",
       "      <td>NaN</td>\n",
       "      <td>0.447214</td>\n",
       "      <td>NaN</td>\n",
       "      <td>1.403293</td>\n",
       "    </tr>\n",
       "    <tr>\n",
       "      <th>David</th>\n",
       "      <td>-0.239046</td>\n",
       "      <td>NaN</td>\n",
       "      <td>-1.565248</td>\n",
       "      <td>0.447214</td>\n",
       "      <td>NaN</td>\n",
       "      <td>0.526235</td>\n",
       "    </tr>\n",
       "    <tr>\n",
       "      <th>Jessica</th>\n",
       "      <td>NaN</td>\n",
       "      <td>-0.956183</td>\n",
       "      <td>-0.447214</td>\n",
       "      <td>NaN</td>\n",
       "      <td>0.866025</td>\n",
       "      <td>-0.350823</td>\n",
       "    </tr>\n",
       "    <tr>\n",
       "      <th>Jane</th>\n",
       "      <td>-1.434274</td>\n",
       "      <td>0.239046</td>\n",
       "      <td>NaN</td>\n",
       "      <td>0.447214</td>\n",
       "      <td>0.866025</td>\n",
       "      <td>NaN</td>\n",
       "    </tr>\n",
       "  </tbody>\n",
       "</table>\n",
       "</div>"
      ],
      "text/plain": [
       "         Black Panther  Infinity War  Incredibles 2  Antman and the Wasp  \\\n",
       "viewer                                                                     \n",
       "Duke         -0.239046     -0.956183       0.670820             0.447214   \n",
       "Katrina       0.956183           NaN       0.670820            -1.788854   \n",
       "Ava                NaN      0.239046       0.670820                  NaN   \n",
       "Michael       0.956183      1.434274            NaN             0.447214   \n",
       "David        -0.239046           NaN      -1.565248             0.447214   \n",
       "Jessica            NaN     -0.956183      -0.447214                  NaN   \n",
       "Jane         -1.434274      0.239046            NaN             0.447214   \n",
       "\n",
       "         Crazy Rich Asians  Deadpool 2  \n",
       "viewer                                  \n",
       "Duke                   NaN   -0.350823  \n",
       "Katrina          -0.866025   -1.227881  \n",
       "Ava              -0.866025         NaN  \n",
       "Michael                NaN    1.403293  \n",
       "David                  NaN    0.526235  \n",
       "Jessica           0.866025   -0.350823  \n",
       "Jane              0.866025         NaN  "
      ]
     },
     "execution_count": 44,
     "metadata": {},
     "output_type": "execute_result"
    }
   ],
   "source": [
    "standardized_rating = (ratings - ratings.mean())/ratings.std()\n",
    "standardized_rating"
   ]
  },
  {
   "cell_type": "markdown",
   "metadata": {},
   "source": [
    "### The code below yields the normalized average for each movie, followed by each viewer."
   ]
  },
  {
   "cell_type": "code",
   "execution_count": 45,
   "metadata": {},
   "outputs": [
    {
     "data": {
      "text/plain": [
       "Black Panther          0.600000\n",
       "Infinity War           0.400000\n",
       "Incredibles 2          0.700000\n",
       "Antman and the Wasp    0.800000\n",
       "Crazy Rich Asians      0.500000\n",
       "Deadpool 2             0.466667\n",
       "dtype: float64"
      ]
     },
     "execution_count": 45,
     "metadata": {},
     "output_type": "execute_result"
    }
   ],
   "source": [
    "normalized_rating.mean()"
   ]
  },
  {
   "cell_type": "code",
   "execution_count": 46,
   "metadata": {},
   "outputs": [
    {
     "data": {
      "text/plain": [
       "Black Panther         -1.776357e-16\n",
       "Infinity War           1.887379e-16\n",
       "Incredibles 2         -4.551914e-16\n",
       "Antman and the Wasp    4.218847e-16\n",
       "Crazy Rich Asians      0.000000e+00\n",
       "Deadpool 2             9.992007e-17\n",
       "dtype: float64"
      ]
     },
     "execution_count": 46,
     "metadata": {},
     "output_type": "execute_result"
    }
   ],
   "source": [
    "standardized_rating.mean()"
   ]
  },
  {
   "cell_type": "code",
   "execution_count": 47,
   "metadata": {},
   "outputs": [
    {
     "data": {
      "text/plain": [
       "viewer\n",
       "Duke       0.566667\n",
       "Katrina    0.400000\n",
       "Ava        0.500000\n",
       "Michael    1.000000\n",
       "David      0.541667\n",
       "Jessica    0.458333\n",
       "Jane       0.625000\n",
       "dtype: float64"
      ]
     },
     "execution_count": 47,
     "metadata": {},
     "output_type": "execute_result"
    }
   ],
   "source": [
    "normalized_rating.mean(axis=1)"
   ]
  },
  {
   "cell_type": "code",
   "execution_count": 48,
   "metadata": {},
   "outputs": [
    {
     "data": {
      "text/plain": [
       "viewer\n",
       "Duke      -0.085604\n",
       "Katrina   -0.451152\n",
       "Ava        0.014614\n",
       "Michael    1.060241\n",
       "David     -0.207711\n",
       "Jessica   -0.222049\n",
       "Jane       0.029503\n",
       "dtype: float64"
      ]
     },
     "execution_count": 48,
     "metadata": {},
     "output_type": "execute_result"
    }
   ],
   "source": [
    "standardized_rating.mean(axis=1)"
   ]
  },
  {
   "cell_type": "markdown",
   "metadata": {},
   "source": [
    "## Conclusion\n",
    "##### Normalization shrinks the range of data to ensure the range of data falls within -1 and 1.  Data within a DataFrame that are normalized containing outliers will scale the result to very small intervals.  Normalization generally works best without outliers present.  "
   ]
  },
  {
   "cell_type": "code",
   "execution_count": null,
   "metadata": {},
   "outputs": [],
   "source": []
  },
  {
   "cell_type": "code",
   "execution_count": null,
   "metadata": {},
   "outputs": [],
   "source": []
  }
 ],
 "metadata": {
  "kernelspec": {
   "display_name": "Python 3",
   "language": "python",
   "name": "python3"
  },
  "language_info": {
   "codemirror_mode": {
    "name": "ipython",
    "version": 3
   },
   "file_extension": ".py",
   "mimetype": "text/x-python",
   "name": "python",
   "nbconvert_exporter": "python",
   "pygments_lexer": "ipython3",
   "version": "3.7.0"
  }
 },
 "nbformat": 4,
 "nbformat_minor": 2
}
