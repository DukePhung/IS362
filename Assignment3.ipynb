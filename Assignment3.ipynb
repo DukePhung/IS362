{
 "cells": [
  {
   "cell_type": "markdown",
   "metadata": {},
   "source": [
    "CREATE A LIST OF 30 DATES "
   ]
  },
  {
   "cell_type": "code",
   "execution_count": 151,
   "metadata": {},
   "outputs": [],
   "source": [
    "import pandas as pd\n",
    "import numpy as np"
   ]
  },
  {
   "cell_type": "code",
   "execution_count": 152,
   "metadata": {},
   "outputs": [
    {
     "data": {
      "text/plain": [
       "0    2019-01-01\n",
       "1    2019-01-02\n",
       "2    2019-01-03\n",
       "3    2019-01-04\n",
       "4    2019-01-05\n",
       "5    2019-01-06\n",
       "6    2019-01-07\n",
       "7    2019-01-08\n",
       "8    2019-01-09\n",
       "9    2019-01-10\n",
       "10   2019-01-11\n",
       "11   2019-01-12\n",
       "12   2019-01-13\n",
       "13   2019-01-14\n",
       "14   2019-01-15\n",
       "15   2019-01-16\n",
       "16   2019-01-17\n",
       "17   2019-01-18\n",
       "18   2019-01-19\n",
       "19   2019-01-20\n",
       "20   2019-01-21\n",
       "21   2019-01-22\n",
       "22   2019-01-23\n",
       "23   2019-01-24\n",
       "24   2019-01-25\n",
       "25   2019-01-26\n",
       "26   2019-01-27\n",
       "27   2019-01-28\n",
       "28   2019-01-29\n",
       "29   2019-01-30\n",
       "dtype: datetime64[ns]"
      ]
     },
     "execution_count": 152,
     "metadata": {},
     "output_type": "execute_result"
    }
   ],
   "source": [
    "dates = pd.Series(pd.date_range('2019-01-01', '2019-01-30'))\n",
    "dates"
   ]
  },
  {
   "cell_type": "markdown",
   "metadata": {},
   "source": [
    "GENERATE A LIST OF 30 RANDOM NUMBERS BETWEEN 40 - 60 (assuming 8 - 12 HRS PER DAY FOR 5 HRS)"
   ]
  },
  {
   "cell_type": "code",
   "execution_count": 153,
   "metadata": {},
   "outputs": [
    {
     "data": {
      "text/plain": [
       "2019-01-01    54\n",
       "2019-01-02    57\n",
       "2019-01-03    52\n",
       "2019-01-04    45\n",
       "2019-01-05    40\n",
       "2019-01-06    41\n",
       "2019-01-07    48\n",
       "2019-01-08    41\n",
       "2019-01-09    44\n",
       "2019-01-10    48\n",
       "2019-01-11    49\n",
       "2019-01-12    53\n",
       "2019-01-13    56\n",
       "2019-01-14    46\n",
       "2019-01-15    52\n",
       "2019-01-16    48\n",
       "2019-01-17    59\n",
       "2019-01-18    43\n",
       "2019-01-19    48\n",
       "2019-01-20    44\n",
       "2019-01-21    49\n",
       "2019-01-22    46\n",
       "2019-01-23    53\n",
       "2019-01-24    58\n",
       "2019-01-25    50\n",
       "2019-01-26    57\n",
       "2019-01-27    44\n",
       "2019-01-28    57\n",
       "2019-01-29    44\n",
       "2019-01-30    42\n",
       "dtype: int64"
      ]
     },
     "execution_count": 153,
     "metadata": {},
     "output_type": "execute_result"
    }
   ],
   "source": [
    "daily_miles = pd.Series(np.random.randint(40, 60, size = 30), index = dates)\n",
    "daily_miles"
   ]
  },
  {
   "cell_type": "markdown",
   "metadata": {},
   "source": [
    "CREATE A SERIES OBJECT WITH CUMMULATIVE MILES (MILES_TO_DATE)"
   ]
  },
  {
   "cell_type": "code",
   "execution_count": 154,
   "metadata": {},
   "outputs": [
    {
     "data": {
      "text/plain": [
       "2019-01-01      54\n",
       "2019-01-02     111\n",
       "2019-01-03     163\n",
       "2019-01-04     208\n",
       "2019-01-05     248\n",
       "2019-01-06     289\n",
       "2019-01-07     337\n",
       "2019-01-08     378\n",
       "2019-01-09     422\n",
       "2019-01-10     470\n",
       "2019-01-11     519\n",
       "2019-01-12     572\n",
       "2019-01-13     628\n",
       "2019-01-14     674\n",
       "2019-01-15     726\n",
       "2019-01-16     774\n",
       "2019-01-17     833\n",
       "2019-01-18     876\n",
       "2019-01-19     924\n",
       "2019-01-20     968\n",
       "2019-01-21    1017\n",
       "2019-01-22    1063\n",
       "2019-01-23    1116\n",
       "2019-01-24    1174\n",
       "2019-01-25    1224\n",
       "2019-01-26    1281\n",
       "2019-01-27    1325\n",
       "2019-01-28    1382\n",
       "2019-01-29    1426\n",
       "2019-01-30    1468\n",
       "dtype: int64"
      ]
     },
     "execution_count": 154,
     "metadata": {},
     "output_type": "execute_result"
    }
   ],
   "source": [
    "miles_to_date = pd.Series(np.cumsum(daily_miles), index=dates)\n",
    "miles_to_date"
   ]
  },
  {
   "cell_type": "markdown",
   "metadata": {},
   "source": [
    "DISPLAY DATE, DAILY MILES, AND CUMMULATIVE MILES IN A CHART"
   ]
  },
  {
   "cell_type": "code",
   "execution_count": 155,
   "metadata": {},
   "outputs": [
    {
     "data": {
      "text/html": [
       "<div>\n",
       "<style scoped>\n",
       "    .dataframe tbody tr th:only-of-type {\n",
       "        vertical-align: middle;\n",
       "    }\n",
       "\n",
       "    .dataframe tbody tr th {\n",
       "        vertical-align: top;\n",
       "    }\n",
       "\n",
       "    .dataframe thead th {\n",
       "        text-align: right;\n",
       "    }\n",
       "</style>\n",
       "<table border=\"1\" class=\"dataframe\">\n",
       "  <thead>\n",
       "    <tr style=\"text-align: right;\">\n",
       "      <th></th>\n",
       "      <th>Daily Miles</th>\n",
       "      <th>Miles to Date</th>\n",
       "    </tr>\n",
       "  </thead>\n",
       "  <tbody>\n",
       "    <tr>\n",
       "      <th>2019-01-01</th>\n",
       "      <td>54</td>\n",
       "      <td>54</td>\n",
       "    </tr>\n",
       "    <tr>\n",
       "      <th>2019-01-02</th>\n",
       "      <td>57</td>\n",
       "      <td>111</td>\n",
       "    </tr>\n",
       "    <tr>\n",
       "      <th>2019-01-03</th>\n",
       "      <td>52</td>\n",
       "      <td>163</td>\n",
       "    </tr>\n",
       "    <tr>\n",
       "      <th>2019-01-04</th>\n",
       "      <td>45</td>\n",
       "      <td>208</td>\n",
       "    </tr>\n",
       "    <tr>\n",
       "      <th>2019-01-05</th>\n",
       "      <td>40</td>\n",
       "      <td>248</td>\n",
       "    </tr>\n",
       "    <tr>\n",
       "      <th>2019-01-06</th>\n",
       "      <td>41</td>\n",
       "      <td>289</td>\n",
       "    </tr>\n",
       "    <tr>\n",
       "      <th>2019-01-07</th>\n",
       "      <td>48</td>\n",
       "      <td>337</td>\n",
       "    </tr>\n",
       "    <tr>\n",
       "      <th>2019-01-08</th>\n",
       "      <td>41</td>\n",
       "      <td>378</td>\n",
       "    </tr>\n",
       "    <tr>\n",
       "      <th>2019-01-09</th>\n",
       "      <td>44</td>\n",
       "      <td>422</td>\n",
       "    </tr>\n",
       "    <tr>\n",
       "      <th>2019-01-10</th>\n",
       "      <td>48</td>\n",
       "      <td>470</td>\n",
       "    </tr>\n",
       "    <tr>\n",
       "      <th>2019-01-11</th>\n",
       "      <td>49</td>\n",
       "      <td>519</td>\n",
       "    </tr>\n",
       "    <tr>\n",
       "      <th>2019-01-12</th>\n",
       "      <td>53</td>\n",
       "      <td>572</td>\n",
       "    </tr>\n",
       "    <tr>\n",
       "      <th>2019-01-13</th>\n",
       "      <td>56</td>\n",
       "      <td>628</td>\n",
       "    </tr>\n",
       "    <tr>\n",
       "      <th>2019-01-14</th>\n",
       "      <td>46</td>\n",
       "      <td>674</td>\n",
       "    </tr>\n",
       "    <tr>\n",
       "      <th>2019-01-15</th>\n",
       "      <td>52</td>\n",
       "      <td>726</td>\n",
       "    </tr>\n",
       "    <tr>\n",
       "      <th>2019-01-16</th>\n",
       "      <td>48</td>\n",
       "      <td>774</td>\n",
       "    </tr>\n",
       "    <tr>\n",
       "      <th>2019-01-17</th>\n",
       "      <td>59</td>\n",
       "      <td>833</td>\n",
       "    </tr>\n",
       "    <tr>\n",
       "      <th>2019-01-18</th>\n",
       "      <td>43</td>\n",
       "      <td>876</td>\n",
       "    </tr>\n",
       "    <tr>\n",
       "      <th>2019-01-19</th>\n",
       "      <td>48</td>\n",
       "      <td>924</td>\n",
       "    </tr>\n",
       "    <tr>\n",
       "      <th>2019-01-20</th>\n",
       "      <td>44</td>\n",
       "      <td>968</td>\n",
       "    </tr>\n",
       "    <tr>\n",
       "      <th>2019-01-21</th>\n",
       "      <td>49</td>\n",
       "      <td>1017</td>\n",
       "    </tr>\n",
       "    <tr>\n",
       "      <th>2019-01-22</th>\n",
       "      <td>46</td>\n",
       "      <td>1063</td>\n",
       "    </tr>\n",
       "    <tr>\n",
       "      <th>2019-01-23</th>\n",
       "      <td>53</td>\n",
       "      <td>1116</td>\n",
       "    </tr>\n",
       "    <tr>\n",
       "      <th>2019-01-24</th>\n",
       "      <td>58</td>\n",
       "      <td>1174</td>\n",
       "    </tr>\n",
       "    <tr>\n",
       "      <th>2019-01-25</th>\n",
       "      <td>50</td>\n",
       "      <td>1224</td>\n",
       "    </tr>\n",
       "    <tr>\n",
       "      <th>2019-01-26</th>\n",
       "      <td>57</td>\n",
       "      <td>1281</td>\n",
       "    </tr>\n",
       "    <tr>\n",
       "      <th>2019-01-27</th>\n",
       "      <td>44</td>\n",
       "      <td>1325</td>\n",
       "    </tr>\n",
       "    <tr>\n",
       "      <th>2019-01-28</th>\n",
       "      <td>57</td>\n",
       "      <td>1382</td>\n",
       "    </tr>\n",
       "    <tr>\n",
       "      <th>2019-01-29</th>\n",
       "      <td>44</td>\n",
       "      <td>1426</td>\n",
       "    </tr>\n",
       "    <tr>\n",
       "      <th>2019-01-30</th>\n",
       "      <td>42</td>\n",
       "      <td>1468</td>\n",
       "    </tr>\n",
       "  </tbody>\n",
       "</table>\n",
       "</div>"
      ],
      "text/plain": [
       "            Daily Miles  Miles to Date\n",
       "2019-01-01           54             54\n",
       "2019-01-02           57            111\n",
       "2019-01-03           52            163\n",
       "2019-01-04           45            208\n",
       "2019-01-05           40            248\n",
       "2019-01-06           41            289\n",
       "2019-01-07           48            337\n",
       "2019-01-08           41            378\n",
       "2019-01-09           44            422\n",
       "2019-01-10           48            470\n",
       "2019-01-11           49            519\n",
       "2019-01-12           53            572\n",
       "2019-01-13           56            628\n",
       "2019-01-14           46            674\n",
       "2019-01-15           52            726\n",
       "2019-01-16           48            774\n",
       "2019-01-17           59            833\n",
       "2019-01-18           43            876\n",
       "2019-01-19           48            924\n",
       "2019-01-20           44            968\n",
       "2019-01-21           49           1017\n",
       "2019-01-22           46           1063\n",
       "2019-01-23           53           1116\n",
       "2019-01-24           58           1174\n",
       "2019-01-25           50           1224\n",
       "2019-01-26           57           1281\n",
       "2019-01-27           44           1325\n",
       "2019-01-28           57           1382\n",
       "2019-01-29           44           1426\n",
       "2019-01-30           42           1468"
      ]
     },
     "execution_count": 155,
     "metadata": {},
     "output_type": "execute_result"
    }
   ],
   "source": [
    "travel_log = pd.DataFrame({'Daily Miles': daily_miles, 'Miles to Date': miles_to_date})\n",
    "travel_log"
   ]
  },
  {
   "cell_type": "markdown",
   "metadata": {},
   "source": [
    "ITERATE THROUGH daily_miles SERIES TO PRINT TOTAL MILES EACH DAY."
   ]
  },
  {
   "cell_type": "code",
   "execution_count": 156,
   "metadata": {},
   "outputs": [
    {
     "name": "stdout",
     "output_type": "stream",
     "text": [
      "On 2019-01-01, you rode a total of 54 miles.\n",
      "On 2019-01-02, you rode a total of 57 miles.\n",
      "On 2019-01-03, you rode a total of 52 miles.\n",
      "On 2019-01-04, you rode a total of 45 miles.\n",
      "On 2019-01-05, you rode a total of 40 miles.\n",
      "On 2019-01-06, you rode a total of 41 miles.\n",
      "On 2019-01-07, you rode a total of 48 miles.\n",
      "On 2019-01-08, you rode a total of 41 miles.\n",
      "On 2019-01-09, you rode a total of 44 miles.\n",
      "On 2019-01-10, you rode a total of 48 miles.\n",
      "On 2019-01-11, you rode a total of 49 miles.\n",
      "On 2019-01-12, you rode a total of 53 miles.\n",
      "On 2019-01-13, you rode a total of 56 miles.\n",
      "On 2019-01-14, you rode a total of 46 miles.\n",
      "On 2019-01-15, you rode a total of 52 miles.\n",
      "On 2019-01-16, you rode a total of 48 miles.\n",
      "On 2019-01-17, you rode a total of 59 miles.\n",
      "On 2019-01-18, you rode a total of 43 miles.\n",
      "On 2019-01-19, you rode a total of 48 miles.\n",
      "On 2019-01-20, you rode a total of 44 miles.\n",
      "On 2019-01-21, you rode a total of 49 miles.\n",
      "On 2019-01-22, you rode a total of 46 miles.\n",
      "On 2019-01-23, you rode a total of 53 miles.\n",
      "On 2019-01-24, you rode a total of 58 miles.\n",
      "On 2019-01-25, you rode a total of 50 miles.\n",
      "On 2019-01-26, you rode a total of 57 miles.\n",
      "On 2019-01-27, you rode a total of 44 miles.\n",
      "On 2019-01-28, you rode a total of 57 miles.\n",
      "On 2019-01-29, you rode a total of 44 miles.\n",
      "On 2019-01-30, you rode a total of 42 miles.\n"
     ]
    }
   ],
   "source": [
    "for row in (daily_miles.index):\n",
    "    print('On {}, you rode a total of {} miles.'.format(row.date(), daily_miles[row]))"
   ]
  },
  {
   "cell_type": "markdown",
   "metadata": {},
   "source": [
    "DISPLAY MILES TO DAY ON A CERTAIN DATE."
   ]
  },
  {
   "cell_type": "code",
   "execution_count": 157,
   "metadata": {},
   "outputs": [
    {
     "name": "stdout",
     "output_type": "stream",
     "text": [
      "On 2019-01-01, your miles to date was 54.\n",
      "On 2019-01-02, your miles to date was 111.\n",
      "On 2019-01-03, your miles to date was 163.\n",
      "On 2019-01-04, your miles to date was 208.\n",
      "On 2019-01-05, your miles to date was 248.\n",
      "On 2019-01-06, your miles to date was 289.\n",
      "On 2019-01-07, your miles to date was 337.\n",
      "On 2019-01-08, your miles to date was 378.\n",
      "On 2019-01-09, your miles to date was 422.\n",
      "On 2019-01-10, your miles to date was 470.\n",
      "On 2019-01-11, your miles to date was 519.\n",
      "On 2019-01-12, your miles to date was 572.\n",
      "On 2019-01-13, your miles to date was 628.\n",
      "On 2019-01-14, your miles to date was 674.\n",
      "On 2019-01-15, your miles to date was 726.\n",
      "On 2019-01-16, your miles to date was 774.\n",
      "On 2019-01-17, your miles to date was 833.\n",
      "On 2019-01-18, your miles to date was 876.\n",
      "On 2019-01-19, your miles to date was 924.\n",
      "On 2019-01-20, your miles to date was 968.\n",
      "On 2019-01-21, your miles to date was 1017.\n",
      "On 2019-01-22, your miles to date was 1063.\n",
      "On 2019-01-23, your miles to date was 1116.\n",
      "On 2019-01-24, your miles to date was 1174.\n",
      "On 2019-01-25, your miles to date was 1224.\n",
      "On 2019-01-26, your miles to date was 1281.\n",
      "On 2019-01-27, your miles to date was 1325.\n",
      "On 2019-01-28, your miles to date was 1382.\n",
      "On 2019-01-29, your miles to date was 1426.\n",
      "On 2019-01-30, your miles to date was 1468.\n"
     ]
    }
   ],
   "source": [
    "for row in (miles_to_date.index):\n",
    "    print('On {}, your miles to date was {}.'.format(row.date(), miles_to_date[row]))"
   ]
  },
  {
   "cell_type": "code",
   "execution_count": null,
   "metadata": {},
   "outputs": [],
   "source": []
  }
 ],
 "metadata": {
  "kernelspec": {
   "display_name": "Python 3",
   "language": "python",
   "name": "python3"
  },
  "language_info": {
   "codemirror_mode": {
    "name": "ipython",
    "version": 3
   },
   "file_extension": ".py",
   "mimetype": "text/x-python",
   "name": "python",
   "nbconvert_exporter": "python",
   "pygments_lexer": "ipython3",
   "version": "3.7.0"
  }
 },
 "nbformat": 4,
 "nbformat_minor": 2
}
